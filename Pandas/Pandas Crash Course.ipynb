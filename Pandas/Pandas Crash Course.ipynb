{
 "cells": [
  {
   "cell_type": "markdown",
   "id": "684d83a4",
   "metadata": {},
   "source": [
    "# Pandas Crash Course"
   ]
  },
  {
   "cell_type": "markdown",
   "id": "97d3ee2d",
   "metadata": {},
   "source": [
    "## Series\n",
    "\n",
    "It is the basic building block of pandas.\n",
    "\n",
    "It is build on top of numpy array and has a named index in addition to a numerical index."
   ]
  },
  {
   "cell_type": "code",
   "execution_count": 1,
   "id": "cad3b118",
   "metadata": {},
   "outputs": [],
   "source": [
    "import numpy as np\n",
    "import pandas as pd"
   ]
  },
  {
   "cell_type": "code",
   "execution_count": 2,
   "id": "d5ddfe45",
   "metadata": {},
   "outputs": [],
   "source": [
    "labels = ['a','b','c']"
   ]
  },
  {
   "cell_type": "code",
   "execution_count": 3,
   "id": "a2beaa9d",
   "metadata": {},
   "outputs": [],
   "source": [
    "val = [10,20,30]"
   ]
  },
  {
   "cell_type": "code",
   "execution_count": 4,
   "id": "b7ef962b",
   "metadata": {},
   "outputs": [],
   "source": [
    "arr = np.array(val)"
   ]
  },
  {
   "cell_type": "code",
   "execution_count": 5,
   "id": "1c1564b8",
   "metadata": {},
   "outputs": [],
   "source": [
    "d ={'a':10, 'b':20, 'c':30}"
   ]
  },
  {
   "cell_type": "code",
   "execution_count": 6,
   "id": "ac3bcbed",
   "metadata": {},
   "outputs": [
    {
     "data": {
      "text/plain": [
       "0    10\n",
       "1    20\n",
       "2    30\n",
       "dtype: int64"
      ]
     },
     "execution_count": 6,
     "metadata": {},
     "output_type": "execute_result"
    }
   ],
   "source": [
    "pd.Series(data=val) # from list"
   ]
  },
  {
   "cell_type": "code",
   "execution_count": 7,
   "id": "37ffb8ed",
   "metadata": {},
   "outputs": [
    {
     "data": {
      "text/plain": [
       "0    10\n",
       "1    20\n",
       "2    30\n",
       "dtype: int64"
      ]
     },
     "execution_count": 7,
     "metadata": {},
     "output_type": "execute_result"
    }
   ],
   "source": [
    "pd.Series(arr) # from np array"
   ]
  },
  {
   "cell_type": "code",
   "execution_count": 8,
   "id": "364123f2",
   "metadata": {},
   "outputs": [
    {
     "data": {
      "text/plain": [
       "a    10\n",
       "b    20\n",
       "c    30\n",
       "dtype: int64"
      ]
     },
     "execution_count": 8,
     "metadata": {},
     "output_type": "execute_result"
    }
   ],
   "source": [
    "pd.Series(arr,index=labels) # from array with labels"
   ]
  },
  {
   "cell_type": "code",
   "execution_count": 9,
   "id": "0b891d89",
   "metadata": {},
   "outputs": [
    {
     "data": {
      "text/plain": [
       "0     10\n",
       "1      a\n",
       "2    4.4\n",
       "dtype: object"
      ]
     },
     "execution_count": 9,
     "metadata": {},
     "output_type": "execute_result"
    }
   ],
   "source": [
    "pd.Series(data=[10,'a',4.4]) # series can be heterogeneous"
   ]
  },
  {
   "cell_type": "code",
   "execution_count": 10,
   "id": "b7980a11",
   "metadata": {},
   "outputs": [
    {
     "data": {
      "text/plain": [
       "a    10\n",
       "b    20\n",
       "c    30\n",
       "dtype: int64"
      ]
     },
     "execution_count": 10,
     "metadata": {},
     "output_type": "execute_result"
    }
   ],
   "source": [
    "pd.Series(d) # from dict"
   ]
  },
  {
   "cell_type": "code",
   "execution_count": 11,
   "id": "a69a2677",
   "metadata": {},
   "outputs": [
    {
     "data": {
      "text/plain": [
       "Python    10\n",
       "C++       20\n",
       "C         30\n",
       "dtype: int64"
      ]
     },
     "execution_count": 11,
     "metadata": {},
     "output_type": "execute_result"
    }
   ],
   "source": [
    "series1 = pd.Series({\"Python\":10,\"C++\":20,\"C\":30})\n",
    "series1"
   ]
  },
  {
   "cell_type": "code",
   "execution_count": 12,
   "id": "97afcff3",
   "metadata": {},
   "outputs": [
    {
     "data": {
      "text/plain": [
       "Python    20\n",
       "Java      10\n",
       "C#        10\n",
       "C++       30\n",
       "dtype: int64"
      ]
     },
     "execution_count": 12,
     "metadata": {},
     "output_type": "execute_result"
    }
   ],
   "source": [
    "series2 = pd.Series({\"Python\":20,\"Java\":10,\"C#\":10,\"C++\":30})\n",
    "series2"
   ]
  },
  {
   "cell_type": "code",
   "execution_count": 13,
   "id": "d917b4b4",
   "metadata": {},
   "outputs": [
    {
     "data": {
      "text/plain": [
       "C          NaN\n",
       "C#         NaN\n",
       "C++       50.0\n",
       "Java       NaN\n",
       "Python    30.0\n",
       "dtype: float64"
      ]
     },
     "execution_count": 13,
     "metadata": {},
     "output_type": "execute_result"
    }
   ],
   "source": [
    "series1 + series2 # adding series"
   ]
  },
  {
   "cell_type": "markdown",
   "id": "8a672535",
   "metadata": {},
   "source": [
    "## DataFrames\n",
    "A DataFrame contains multiple series that share the same index.\n",
    "\n",
    "It is a tabular data storage"
   ]
  },
  {
   "cell_type": "code",
   "execution_count": 14,
   "id": "dd2468fe",
   "metadata": {},
   "outputs": [],
   "source": [
    "rand_mat = np.random.randn(5,4)"
   ]
  },
  {
   "cell_type": "code",
   "execution_count": 15,
   "id": "26417e48",
   "metadata": {},
   "outputs": [
    {
     "data": {
      "text/plain": [
       "array([[ 0.72155216, -1.91415695, -0.79158835,  0.45008676],\n",
       "       [-1.12876258, -0.75004619,  0.81076272,  1.21674039],\n",
       "       [-0.8879935 ,  0.59301031, -0.51896824, -1.47938072],\n",
       "       [ 0.05812665,  0.11299943,  0.45966134,  0.03885732],\n",
       "       [ 0.75339692, -0.53551831,  1.67477428,  1.74413254]])"
      ]
     },
     "execution_count": 15,
     "metadata": {},
     "output_type": "execute_result"
    }
   ],
   "source": [
    "rand_mat"
   ]
  },
  {
   "cell_type": "code",
   "execution_count": 16,
   "id": "4c948f11",
   "metadata": {},
   "outputs": [
    {
     "data": {
      "text/html": [
       "<div>\n",
       "<style scoped>\n",
       "    .dataframe tbody tr th:only-of-type {\n",
       "        vertical-align: middle;\n",
       "    }\n",
       "\n",
       "    .dataframe tbody tr th {\n",
       "        vertical-align: top;\n",
       "    }\n",
       "\n",
       "    .dataframe thead th {\n",
       "        text-align: right;\n",
       "    }\n",
       "</style>\n",
       "<table border=\"1\" class=\"dataframe\">\n",
       "  <thead>\n",
       "    <tr style=\"text-align: right;\">\n",
       "      <th></th>\n",
       "      <th>0</th>\n",
       "      <th>1</th>\n",
       "      <th>2</th>\n",
       "      <th>3</th>\n",
       "    </tr>\n",
       "  </thead>\n",
       "  <tbody>\n",
       "    <tr>\n",
       "      <th>0</th>\n",
       "      <td>0.721552</td>\n",
       "      <td>-1.914157</td>\n",
       "      <td>-0.791588</td>\n",
       "      <td>0.450087</td>\n",
       "    </tr>\n",
       "    <tr>\n",
       "      <th>1</th>\n",
       "      <td>-1.128763</td>\n",
       "      <td>-0.750046</td>\n",
       "      <td>0.810763</td>\n",
       "      <td>1.216740</td>\n",
       "    </tr>\n",
       "    <tr>\n",
       "      <th>2</th>\n",
       "      <td>-0.887993</td>\n",
       "      <td>0.593010</td>\n",
       "      <td>-0.518968</td>\n",
       "      <td>-1.479381</td>\n",
       "    </tr>\n",
       "    <tr>\n",
       "      <th>3</th>\n",
       "      <td>0.058127</td>\n",
       "      <td>0.112999</td>\n",
       "      <td>0.459661</td>\n",
       "      <td>0.038857</td>\n",
       "    </tr>\n",
       "    <tr>\n",
       "      <th>4</th>\n",
       "      <td>0.753397</td>\n",
       "      <td>-0.535518</td>\n",
       "      <td>1.674774</td>\n",
       "      <td>1.744133</td>\n",
       "    </tr>\n",
       "  </tbody>\n",
       "</table>\n",
       "</div>"
      ],
      "text/plain": [
       "          0         1         2         3\n",
       "0  0.721552 -1.914157 -0.791588  0.450087\n",
       "1 -1.128763 -0.750046  0.810763  1.216740\n",
       "2 -0.887993  0.593010 -0.518968 -1.479381\n",
       "3  0.058127  0.112999  0.459661  0.038857\n",
       "4  0.753397 -0.535518  1.674774  1.744133"
      ]
     },
     "execution_count": 16,
     "metadata": {},
     "output_type": "execute_result"
    }
   ],
   "source": [
    "pd.DataFrame(data =rand_mat) # create dataframe from numpy array"
   ]
  },
  {
   "cell_type": "code",
   "execution_count": 17,
   "id": "5409818d",
   "metadata": {},
   "outputs": [
    {
     "data": {
      "text/html": [
       "<div>\n",
       "<style scoped>\n",
       "    .dataframe tbody tr th:only-of-type {\n",
       "        vertical-align: middle;\n",
       "    }\n",
       "\n",
       "    .dataframe tbody tr th {\n",
       "        vertical-align: top;\n",
       "    }\n",
       "\n",
       "    .dataframe thead th {\n",
       "        text-align: right;\n",
       "    }\n",
       "</style>\n",
       "<table border=\"1\" class=\"dataframe\">\n",
       "  <thead>\n",
       "    <tr style=\"text-align: right;\">\n",
       "      <th></th>\n",
       "      <th>W</th>\n",
       "      <th>X</th>\n",
       "      <th>Y</th>\n",
       "      <th>Z</th>\n",
       "    </tr>\n",
       "  </thead>\n",
       "  <tbody>\n",
       "    <tr>\n",
       "      <th>A</th>\n",
       "      <td>0.721552</td>\n",
       "      <td>-1.914157</td>\n",
       "      <td>-0.791588</td>\n",
       "      <td>0.450087</td>\n",
       "    </tr>\n",
       "    <tr>\n",
       "      <th>B</th>\n",
       "      <td>-1.128763</td>\n",
       "      <td>-0.750046</td>\n",
       "      <td>0.810763</td>\n",
       "      <td>1.216740</td>\n",
       "    </tr>\n",
       "    <tr>\n",
       "      <th>C</th>\n",
       "      <td>-0.887993</td>\n",
       "      <td>0.593010</td>\n",
       "      <td>-0.518968</td>\n",
       "      <td>-1.479381</td>\n",
       "    </tr>\n",
       "    <tr>\n",
       "      <th>D</th>\n",
       "      <td>0.058127</td>\n",
       "      <td>0.112999</td>\n",
       "      <td>0.459661</td>\n",
       "      <td>0.038857</td>\n",
       "    </tr>\n",
       "    <tr>\n",
       "      <th>E</th>\n",
       "      <td>0.753397</td>\n",
       "      <td>-0.535518</td>\n",
       "      <td>1.674774</td>\n",
       "      <td>1.744133</td>\n",
       "    </tr>\n",
       "  </tbody>\n",
       "</table>\n",
       "</div>"
      ],
      "text/plain": [
       "          W         X         Y         Z\n",
       "A  0.721552 -1.914157 -0.791588  0.450087\n",
       "B -1.128763 -0.750046  0.810763  1.216740\n",
       "C -0.887993  0.593010 -0.518968 -1.479381\n",
       "D  0.058127  0.112999  0.459661  0.038857\n",
       "E  0.753397 -0.535518  1.674774  1.744133"
      ]
     },
     "execution_count": 17,
     "metadata": {},
     "output_type": "execute_result"
    }
   ],
   "source": [
    "df = pd.DataFrame(data =rand_mat, index='A B C D E'.split(), columns='W X Y Z'.split())\n",
    "df"
   ]
  },
  {
   "cell_type": "code",
   "execution_count": 18,
   "id": "72bcccad",
   "metadata": {},
   "outputs": [
    {
     "data": {
      "text/plain": [
       "A    0.721552\n",
       "B   -1.128763\n",
       "C   -0.887993\n",
       "D    0.058127\n",
       "E    0.753397\n",
       "Name: W, dtype: float64"
      ]
     },
     "execution_count": 18,
     "metadata": {},
     "output_type": "execute_result"
    }
   ],
   "source": [
    "df['W'] # access column"
   ]
  },
  {
   "cell_type": "code",
   "execution_count": 19,
   "id": "56df49e4",
   "metadata": {},
   "outputs": [
    {
     "data": {
      "text/plain": [
       "pandas.core.series.Series"
      ]
     },
     "execution_count": 19,
     "metadata": {},
     "output_type": "execute_result"
    }
   ],
   "source": [
    "type(df['W']) "
   ]
  },
  {
   "cell_type": "code",
   "execution_count": 20,
   "id": "3322fca1",
   "metadata": {},
   "outputs": [
    {
     "data": {
      "text/html": [
       "<div>\n",
       "<style scoped>\n",
       "    .dataframe tbody tr th:only-of-type {\n",
       "        vertical-align: middle;\n",
       "    }\n",
       "\n",
       "    .dataframe tbody tr th {\n",
       "        vertical-align: top;\n",
       "    }\n",
       "\n",
       "    .dataframe thead th {\n",
       "        text-align: right;\n",
       "    }\n",
       "</style>\n",
       "<table border=\"1\" class=\"dataframe\">\n",
       "  <thead>\n",
       "    <tr style=\"text-align: right;\">\n",
       "      <th></th>\n",
       "      <th>W</th>\n",
       "      <th>Y</th>\n",
       "    </tr>\n",
       "  </thead>\n",
       "  <tbody>\n",
       "    <tr>\n",
       "      <th>A</th>\n",
       "      <td>0.721552</td>\n",
       "      <td>-0.791588</td>\n",
       "    </tr>\n",
       "    <tr>\n",
       "      <th>B</th>\n",
       "      <td>-1.128763</td>\n",
       "      <td>0.810763</td>\n",
       "    </tr>\n",
       "    <tr>\n",
       "      <th>C</th>\n",
       "      <td>-0.887993</td>\n",
       "      <td>-0.518968</td>\n",
       "    </tr>\n",
       "    <tr>\n",
       "      <th>D</th>\n",
       "      <td>0.058127</td>\n",
       "      <td>0.459661</td>\n",
       "    </tr>\n",
       "    <tr>\n",
       "      <th>E</th>\n",
       "      <td>0.753397</td>\n",
       "      <td>1.674774</td>\n",
       "    </tr>\n",
       "  </tbody>\n",
       "</table>\n",
       "</div>"
      ],
      "text/plain": [
       "          W         Y\n",
       "A  0.721552 -0.791588\n",
       "B -1.128763  0.810763\n",
       "C -0.887993 -0.518968\n",
       "D  0.058127  0.459661\n",
       "E  0.753397  1.674774"
      ]
     },
     "execution_count": 20,
     "metadata": {},
     "output_type": "execute_result"
    }
   ],
   "source": [
    "df[['W','Y']] # access multiple columns"
   ]
  },
  {
   "cell_type": "code",
   "execution_count": 21,
   "id": "63be82c1",
   "metadata": {},
   "outputs": [
    {
     "data": {
      "text/plain": [
       "pandas.core.frame.DataFrame"
      ]
     },
     "execution_count": 21,
     "metadata": {},
     "output_type": "execute_result"
    }
   ],
   "source": [
    "type(df[['W','Y']])"
   ]
  },
  {
   "cell_type": "code",
   "execution_count": 22,
   "id": "4d3af588",
   "metadata": {},
   "outputs": [],
   "source": [
    "df['NEW'] = df['W']+df['Y'] # add a column"
   ]
  },
  {
   "cell_type": "code",
   "execution_count": 23,
   "id": "7efef52c",
   "metadata": {},
   "outputs": [
    {
     "data": {
      "text/html": [
       "<div>\n",
       "<style scoped>\n",
       "    .dataframe tbody tr th:only-of-type {\n",
       "        vertical-align: middle;\n",
       "    }\n",
       "\n",
       "    .dataframe tbody tr th {\n",
       "        vertical-align: top;\n",
       "    }\n",
       "\n",
       "    .dataframe thead th {\n",
       "        text-align: right;\n",
       "    }\n",
       "</style>\n",
       "<table border=\"1\" class=\"dataframe\">\n",
       "  <thead>\n",
       "    <tr style=\"text-align: right;\">\n",
       "      <th></th>\n",
       "      <th>W</th>\n",
       "      <th>X</th>\n",
       "      <th>Y</th>\n",
       "      <th>Z</th>\n",
       "      <th>NEW</th>\n",
       "    </tr>\n",
       "  </thead>\n",
       "  <tbody>\n",
       "    <tr>\n",
       "      <th>A</th>\n",
       "      <td>0.721552</td>\n",
       "      <td>-1.914157</td>\n",
       "      <td>-0.791588</td>\n",
       "      <td>0.450087</td>\n",
       "      <td>-0.070036</td>\n",
       "    </tr>\n",
       "    <tr>\n",
       "      <th>B</th>\n",
       "      <td>-1.128763</td>\n",
       "      <td>-0.750046</td>\n",
       "      <td>0.810763</td>\n",
       "      <td>1.216740</td>\n",
       "      <td>-0.318000</td>\n",
       "    </tr>\n",
       "    <tr>\n",
       "      <th>C</th>\n",
       "      <td>-0.887993</td>\n",
       "      <td>0.593010</td>\n",
       "      <td>-0.518968</td>\n",
       "      <td>-1.479381</td>\n",
       "      <td>-1.406962</td>\n",
       "    </tr>\n",
       "    <tr>\n",
       "      <th>D</th>\n",
       "      <td>0.058127</td>\n",
       "      <td>0.112999</td>\n",
       "      <td>0.459661</td>\n",
       "      <td>0.038857</td>\n",
       "      <td>0.517788</td>\n",
       "    </tr>\n",
       "    <tr>\n",
       "      <th>E</th>\n",
       "      <td>0.753397</td>\n",
       "      <td>-0.535518</td>\n",
       "      <td>1.674774</td>\n",
       "      <td>1.744133</td>\n",
       "      <td>2.428171</td>\n",
       "    </tr>\n",
       "  </tbody>\n",
       "</table>\n",
       "</div>"
      ],
      "text/plain": [
       "          W         X         Y         Z       NEW\n",
       "A  0.721552 -1.914157 -0.791588  0.450087 -0.070036\n",
       "B -1.128763 -0.750046  0.810763  1.216740 -0.318000\n",
       "C -0.887993  0.593010 -0.518968 -1.479381 -1.406962\n",
       "D  0.058127  0.112999  0.459661  0.038857  0.517788\n",
       "E  0.753397 -0.535518  1.674774  1.744133  2.428171"
      ]
     },
     "execution_count": 23,
     "metadata": {},
     "output_type": "execute_result"
    }
   ],
   "source": [
    "df"
   ]
  },
  {
   "cell_type": "code",
   "execution_count": 24,
   "id": "44551c13",
   "metadata": {},
   "outputs": [
    {
     "data": {
      "text/html": [
       "<div>\n",
       "<style scoped>\n",
       "    .dataframe tbody tr th:only-of-type {\n",
       "        vertical-align: middle;\n",
       "    }\n",
       "\n",
       "    .dataframe tbody tr th {\n",
       "        vertical-align: top;\n",
       "    }\n",
       "\n",
       "    .dataframe thead th {\n",
       "        text-align: right;\n",
       "    }\n",
       "</style>\n",
       "<table border=\"1\" class=\"dataframe\">\n",
       "  <thead>\n",
       "    <tr style=\"text-align: right;\">\n",
       "      <th></th>\n",
       "      <th>W</th>\n",
       "      <th>X</th>\n",
       "      <th>Y</th>\n",
       "      <th>Z</th>\n",
       "    </tr>\n",
       "  </thead>\n",
       "  <tbody>\n",
       "    <tr>\n",
       "      <th>A</th>\n",
       "      <td>0.721552</td>\n",
       "      <td>-1.914157</td>\n",
       "      <td>-0.791588</td>\n",
       "      <td>0.450087</td>\n",
       "    </tr>\n",
       "    <tr>\n",
       "      <th>B</th>\n",
       "      <td>-1.128763</td>\n",
       "      <td>-0.750046</td>\n",
       "      <td>0.810763</td>\n",
       "      <td>1.216740</td>\n",
       "    </tr>\n",
       "    <tr>\n",
       "      <th>C</th>\n",
       "      <td>-0.887993</td>\n",
       "      <td>0.593010</td>\n",
       "      <td>-0.518968</td>\n",
       "      <td>-1.479381</td>\n",
       "    </tr>\n",
       "    <tr>\n",
       "      <th>D</th>\n",
       "      <td>0.058127</td>\n",
       "      <td>0.112999</td>\n",
       "      <td>0.459661</td>\n",
       "      <td>0.038857</td>\n",
       "    </tr>\n",
       "    <tr>\n",
       "      <th>E</th>\n",
       "      <td>0.753397</td>\n",
       "      <td>-0.535518</td>\n",
       "      <td>1.674774</td>\n",
       "      <td>1.744133</td>\n",
       "    </tr>\n",
       "  </tbody>\n",
       "</table>\n",
       "</div>"
      ],
      "text/plain": [
       "          W         X         Y         Z\n",
       "A  0.721552 -1.914157 -0.791588  0.450087\n",
       "B -1.128763 -0.750046  0.810763  1.216740\n",
       "C -0.887993  0.593010 -0.518968 -1.479381\n",
       "D  0.058127  0.112999  0.459661  0.038857\n",
       "E  0.753397 -0.535518  1.674774  1.744133"
      ]
     },
     "execution_count": 24,
     "metadata": {},
     "output_type": "execute_result"
    }
   ],
   "source": [
    "df.drop('NEW',axis=1) # axis=0 row, axis=1 col"
   ]
  },
  {
   "cell_type": "code",
   "execution_count": 25,
   "id": "39eca81e",
   "metadata": {},
   "outputs": [
    {
     "data": {
      "text/html": [
       "<div>\n",
       "<style scoped>\n",
       "    .dataframe tbody tr th:only-of-type {\n",
       "        vertical-align: middle;\n",
       "    }\n",
       "\n",
       "    .dataframe tbody tr th {\n",
       "        vertical-align: top;\n",
       "    }\n",
       "\n",
       "    .dataframe thead th {\n",
       "        text-align: right;\n",
       "    }\n",
       "</style>\n",
       "<table border=\"1\" class=\"dataframe\">\n",
       "  <thead>\n",
       "    <tr style=\"text-align: right;\">\n",
       "      <th></th>\n",
       "      <th>W</th>\n",
       "      <th>X</th>\n",
       "      <th>Y</th>\n",
       "      <th>Z</th>\n",
       "      <th>NEW</th>\n",
       "    </tr>\n",
       "  </thead>\n",
       "  <tbody>\n",
       "    <tr>\n",
       "      <th>A</th>\n",
       "      <td>0.721552</td>\n",
       "      <td>-1.914157</td>\n",
       "      <td>-0.791588</td>\n",
       "      <td>0.450087</td>\n",
       "      <td>-0.070036</td>\n",
       "    </tr>\n",
       "    <tr>\n",
       "      <th>B</th>\n",
       "      <td>-1.128763</td>\n",
       "      <td>-0.750046</td>\n",
       "      <td>0.810763</td>\n",
       "      <td>1.216740</td>\n",
       "      <td>-0.318000</td>\n",
       "    </tr>\n",
       "    <tr>\n",
       "      <th>C</th>\n",
       "      <td>-0.887993</td>\n",
       "      <td>0.593010</td>\n",
       "      <td>-0.518968</td>\n",
       "      <td>-1.479381</td>\n",
       "      <td>-1.406962</td>\n",
       "    </tr>\n",
       "    <tr>\n",
       "      <th>D</th>\n",
       "      <td>0.058127</td>\n",
       "      <td>0.112999</td>\n",
       "      <td>0.459661</td>\n",
       "      <td>0.038857</td>\n",
       "      <td>0.517788</td>\n",
       "    </tr>\n",
       "    <tr>\n",
       "      <th>E</th>\n",
       "      <td>0.753397</td>\n",
       "      <td>-0.535518</td>\n",
       "      <td>1.674774</td>\n",
       "      <td>1.744133</td>\n",
       "      <td>2.428171</td>\n",
       "    </tr>\n",
       "  </tbody>\n",
       "</table>\n",
       "</div>"
      ],
      "text/plain": [
       "          W         X         Y         Z       NEW\n",
       "A  0.721552 -1.914157 -0.791588  0.450087 -0.070036\n",
       "B -1.128763 -0.750046  0.810763  1.216740 -0.318000\n",
       "C -0.887993  0.593010 -0.518968 -1.479381 -1.406962\n",
       "D  0.058127  0.112999  0.459661  0.038857  0.517788\n",
       "E  0.753397 -0.535518  1.674774  1.744133  2.428171"
      ]
     },
     "execution_count": 25,
     "metadata": {},
     "output_type": "execute_result"
    }
   ],
   "source": [
    "df # does not drop the column"
   ]
  },
  {
   "cell_type": "code",
   "execution_count": 26,
   "id": "5003045e",
   "metadata": {},
   "outputs": [],
   "source": [
    "df.drop('NEW',axis=1,inplace=True) # or df = df.drop('NEW',axis=1)"
   ]
  },
  {
   "cell_type": "code",
   "execution_count": 27,
   "id": "e914ef63",
   "metadata": {},
   "outputs": [
    {
     "data": {
      "text/html": [
       "<div>\n",
       "<style scoped>\n",
       "    .dataframe tbody tr th:only-of-type {\n",
       "        vertical-align: middle;\n",
       "    }\n",
       "\n",
       "    .dataframe tbody tr th {\n",
       "        vertical-align: top;\n",
       "    }\n",
       "\n",
       "    .dataframe thead th {\n",
       "        text-align: right;\n",
       "    }\n",
       "</style>\n",
       "<table border=\"1\" class=\"dataframe\">\n",
       "  <thead>\n",
       "    <tr style=\"text-align: right;\">\n",
       "      <th></th>\n",
       "      <th>W</th>\n",
       "      <th>X</th>\n",
       "      <th>Y</th>\n",
       "      <th>Z</th>\n",
       "    </tr>\n",
       "  </thead>\n",
       "  <tbody>\n",
       "    <tr>\n",
       "      <th>A</th>\n",
       "      <td>0.721552</td>\n",
       "      <td>-1.914157</td>\n",
       "      <td>-0.791588</td>\n",
       "      <td>0.450087</td>\n",
       "    </tr>\n",
       "    <tr>\n",
       "      <th>B</th>\n",
       "      <td>-1.128763</td>\n",
       "      <td>-0.750046</td>\n",
       "      <td>0.810763</td>\n",
       "      <td>1.216740</td>\n",
       "    </tr>\n",
       "    <tr>\n",
       "      <th>C</th>\n",
       "      <td>-0.887993</td>\n",
       "      <td>0.593010</td>\n",
       "      <td>-0.518968</td>\n",
       "      <td>-1.479381</td>\n",
       "    </tr>\n",
       "    <tr>\n",
       "      <th>D</th>\n",
       "      <td>0.058127</td>\n",
       "      <td>0.112999</td>\n",
       "      <td>0.459661</td>\n",
       "      <td>0.038857</td>\n",
       "    </tr>\n",
       "    <tr>\n",
       "      <th>E</th>\n",
       "      <td>0.753397</td>\n",
       "      <td>-0.535518</td>\n",
       "      <td>1.674774</td>\n",
       "      <td>1.744133</td>\n",
       "    </tr>\n",
       "  </tbody>\n",
       "</table>\n",
       "</div>"
      ],
      "text/plain": [
       "          W         X         Y         Z\n",
       "A  0.721552 -1.914157 -0.791588  0.450087\n",
       "B -1.128763 -0.750046  0.810763  1.216740\n",
       "C -0.887993  0.593010 -0.518968 -1.479381\n",
       "D  0.058127  0.112999  0.459661  0.038857\n",
       "E  0.753397 -0.535518  1.674774  1.744133"
      ]
     },
     "execution_count": 27,
     "metadata": {},
     "output_type": "execute_result"
    }
   ],
   "source": [
    "df"
   ]
  },
  {
   "cell_type": "code",
   "execution_count": 28,
   "id": "72e2e643",
   "metadata": {},
   "outputs": [
    {
     "data": {
      "text/html": [
       "<div>\n",
       "<style scoped>\n",
       "    .dataframe tbody tr th:only-of-type {\n",
       "        vertical-align: middle;\n",
       "    }\n",
       "\n",
       "    .dataframe tbody tr th {\n",
       "        vertical-align: top;\n",
       "    }\n",
       "\n",
       "    .dataframe thead th {\n",
       "        text-align: right;\n",
       "    }\n",
       "</style>\n",
       "<table border=\"1\" class=\"dataframe\">\n",
       "  <thead>\n",
       "    <tr style=\"text-align: right;\">\n",
       "      <th></th>\n",
       "      <th>W</th>\n",
       "      <th>X</th>\n",
       "      <th>Y</th>\n",
       "      <th>Z</th>\n",
       "    </tr>\n",
       "  </thead>\n",
       "  <tbody>\n",
       "    <tr>\n",
       "      <th>B</th>\n",
       "      <td>-1.128763</td>\n",
       "      <td>-0.750046</td>\n",
       "      <td>0.810763</td>\n",
       "      <td>1.216740</td>\n",
       "    </tr>\n",
       "    <tr>\n",
       "      <th>C</th>\n",
       "      <td>-0.887993</td>\n",
       "      <td>0.593010</td>\n",
       "      <td>-0.518968</td>\n",
       "      <td>-1.479381</td>\n",
       "    </tr>\n",
       "    <tr>\n",
       "      <th>D</th>\n",
       "      <td>0.058127</td>\n",
       "      <td>0.112999</td>\n",
       "      <td>0.459661</td>\n",
       "      <td>0.038857</td>\n",
       "    </tr>\n",
       "    <tr>\n",
       "      <th>E</th>\n",
       "      <td>0.753397</td>\n",
       "      <td>-0.535518</td>\n",
       "      <td>1.674774</td>\n",
       "      <td>1.744133</td>\n",
       "    </tr>\n",
       "  </tbody>\n",
       "</table>\n",
       "</div>"
      ],
      "text/plain": [
       "          W         X         Y         Z\n",
       "B -1.128763 -0.750046  0.810763  1.216740\n",
       "C -0.887993  0.593010 -0.518968 -1.479381\n",
       "D  0.058127  0.112999  0.459661  0.038857\n",
       "E  0.753397 -0.535518  1.674774  1.744133"
      ]
     },
     "execution_count": 28,
     "metadata": {},
     "output_type": "execute_result"
    }
   ],
   "source": [
    "df.drop('A') # default axis=0 and inplace=False"
   ]
  },
  {
   "cell_type": "code",
   "execution_count": 29,
   "id": "bd4b5af8",
   "metadata": {},
   "outputs": [
    {
     "data": {
      "text/html": [
       "<div>\n",
       "<style scoped>\n",
       "    .dataframe tbody tr th:only-of-type {\n",
       "        vertical-align: middle;\n",
       "    }\n",
       "\n",
       "    .dataframe tbody tr th {\n",
       "        vertical-align: top;\n",
       "    }\n",
       "\n",
       "    .dataframe thead th {\n",
       "        text-align: right;\n",
       "    }\n",
       "</style>\n",
       "<table border=\"1\" class=\"dataframe\">\n",
       "  <thead>\n",
       "    <tr style=\"text-align: right;\">\n",
       "      <th></th>\n",
       "      <th>W</th>\n",
       "      <th>X</th>\n",
       "      <th>Y</th>\n",
       "      <th>Z</th>\n",
       "    </tr>\n",
       "  </thead>\n",
       "  <tbody>\n",
       "    <tr>\n",
       "      <th>A</th>\n",
       "      <td>0.721552</td>\n",
       "      <td>-1.914157</td>\n",
       "      <td>-0.791588</td>\n",
       "      <td>0.450087</td>\n",
       "    </tr>\n",
       "    <tr>\n",
       "      <th>B</th>\n",
       "      <td>-1.128763</td>\n",
       "      <td>-0.750046</td>\n",
       "      <td>0.810763</td>\n",
       "      <td>1.216740</td>\n",
       "    </tr>\n",
       "    <tr>\n",
       "      <th>C</th>\n",
       "      <td>-0.887993</td>\n",
       "      <td>0.593010</td>\n",
       "      <td>-0.518968</td>\n",
       "      <td>-1.479381</td>\n",
       "    </tr>\n",
       "    <tr>\n",
       "      <th>D</th>\n",
       "      <td>0.058127</td>\n",
       "      <td>0.112999</td>\n",
       "      <td>0.459661</td>\n",
       "      <td>0.038857</td>\n",
       "    </tr>\n",
       "    <tr>\n",
       "      <th>E</th>\n",
       "      <td>0.753397</td>\n",
       "      <td>-0.535518</td>\n",
       "      <td>1.674774</td>\n",
       "      <td>1.744133</td>\n",
       "    </tr>\n",
       "  </tbody>\n",
       "</table>\n",
       "</div>"
      ],
      "text/plain": [
       "          W         X         Y         Z\n",
       "A  0.721552 -1.914157 -0.791588  0.450087\n",
       "B -1.128763 -0.750046  0.810763  1.216740\n",
       "C -0.887993  0.593010 -0.518968 -1.479381\n",
       "D  0.058127  0.112999  0.459661  0.038857\n",
       "E  0.753397 -0.535518  1.674774  1.744133"
      ]
     },
     "execution_count": 29,
     "metadata": {},
     "output_type": "execute_result"
    }
   ],
   "source": [
    "df"
   ]
  },
  {
   "cell_type": "code",
   "execution_count": 30,
   "id": "94a31c8d",
   "metadata": {},
   "outputs": [
    {
     "data": {
      "text/plain": [
       "W    0.721552\n",
       "X   -1.914157\n",
       "Y   -0.791588\n",
       "Z    0.450087\n",
       "Name: A, dtype: float64"
      ]
     },
     "execution_count": 30,
     "metadata": {},
     "output_type": "execute_result"
    }
   ],
   "source": [
    "df.loc['A'] # access row location"
   ]
  },
  {
   "cell_type": "code",
   "execution_count": 31,
   "id": "27d39e7f",
   "metadata": {},
   "outputs": [
    {
     "data": {
      "text/plain": [
       "pandas.core.series.Series"
      ]
     },
     "execution_count": 31,
     "metadata": {},
     "output_type": "execute_result"
    }
   ],
   "source": [
    "type(df.loc['A'])"
   ]
  },
  {
   "cell_type": "code",
   "execution_count": 32,
   "id": "4d17aa7a",
   "metadata": {},
   "outputs": [
    {
     "data": {
      "text/plain": [
       "W    0.721552\n",
       "X   -1.914157\n",
       "Y   -0.791588\n",
       "Z    0.450087\n",
       "Name: A, dtype: float64"
      ]
     },
     "execution_count": 32,
     "metadata": {},
     "output_type": "execute_result"
    }
   ],
   "source": [
    "df.iloc[0] # access row with index location"
   ]
  },
  {
   "cell_type": "code",
   "execution_count": 33,
   "id": "c05f3185",
   "metadata": {},
   "outputs": [
    {
     "data": {
      "text/plain": [
       "pandas.core.series.Series"
      ]
     },
     "execution_count": 33,
     "metadata": {},
     "output_type": "execute_result"
    }
   ],
   "source": [
    "type(df.iloc[0])"
   ]
  },
  {
   "cell_type": "code",
   "execution_count": 34,
   "id": "e0f821e5",
   "metadata": {},
   "outputs": [
    {
     "data": {
      "text/html": [
       "<div>\n",
       "<style scoped>\n",
       "    .dataframe tbody tr th:only-of-type {\n",
       "        vertical-align: middle;\n",
       "    }\n",
       "\n",
       "    .dataframe tbody tr th {\n",
       "        vertical-align: top;\n",
       "    }\n",
       "\n",
       "    .dataframe thead th {\n",
       "        text-align: right;\n",
       "    }\n",
       "</style>\n",
       "<table border=\"1\" class=\"dataframe\">\n",
       "  <thead>\n",
       "    <tr style=\"text-align: right;\">\n",
       "      <th></th>\n",
       "      <th>W</th>\n",
       "      <th>X</th>\n",
       "      <th>Y</th>\n",
       "      <th>Z</th>\n",
       "    </tr>\n",
       "  </thead>\n",
       "  <tbody>\n",
       "    <tr>\n",
       "      <th>A</th>\n",
       "      <td>0.721552</td>\n",
       "      <td>-1.914157</td>\n",
       "      <td>-0.791588</td>\n",
       "      <td>0.450087</td>\n",
       "    </tr>\n",
       "    <tr>\n",
       "      <th>C</th>\n",
       "      <td>-0.887993</td>\n",
       "      <td>0.593010</td>\n",
       "      <td>-0.518968</td>\n",
       "      <td>-1.479381</td>\n",
       "    </tr>\n",
       "  </tbody>\n",
       "</table>\n",
       "</div>"
      ],
      "text/plain": [
       "          W         X         Y         Z\n",
       "A  0.721552 -1.914157 -0.791588  0.450087\n",
       "C -0.887993  0.593010 -0.518968 -1.479381"
      ]
     },
     "execution_count": 34,
     "metadata": {},
     "output_type": "execute_result"
    }
   ],
   "source": [
    "df.loc[['A','C']] # access multiple rows"
   ]
  },
  {
   "cell_type": "code",
   "execution_count": 35,
   "id": "af66be4c",
   "metadata": {},
   "outputs": [
    {
     "data": {
      "text/plain": [
       "pandas.core.frame.DataFrame"
      ]
     },
     "execution_count": 35,
     "metadata": {},
     "output_type": "execute_result"
    }
   ],
   "source": [
    "type(df.loc[['A','C']])"
   ]
  },
  {
   "cell_type": "code",
   "execution_count": 36,
   "id": "2cc0ba00",
   "metadata": {},
   "outputs": [
    {
     "data": {
      "text/html": [
       "<div>\n",
       "<style scoped>\n",
       "    .dataframe tbody tr th:only-of-type {\n",
       "        vertical-align: middle;\n",
       "    }\n",
       "\n",
       "    .dataframe tbody tr th {\n",
       "        vertical-align: top;\n",
       "    }\n",
       "\n",
       "    .dataframe thead th {\n",
       "        text-align: right;\n",
       "    }\n",
       "</style>\n",
       "<table border=\"1\" class=\"dataframe\">\n",
       "  <thead>\n",
       "    <tr style=\"text-align: right;\">\n",
       "      <th></th>\n",
       "      <th>Y</th>\n",
       "      <th>Z</th>\n",
       "    </tr>\n",
       "  </thead>\n",
       "  <tbody>\n",
       "    <tr>\n",
       "      <th>A</th>\n",
       "      <td>-0.791588</td>\n",
       "      <td>0.450087</td>\n",
       "    </tr>\n",
       "    <tr>\n",
       "      <th>C</th>\n",
       "      <td>-0.518968</td>\n",
       "      <td>-1.479381</td>\n",
       "    </tr>\n",
       "  </tbody>\n",
       "</table>\n",
       "</div>"
      ],
      "text/plain": [
       "          Y         Z\n",
       "A -0.791588  0.450087\n",
       "C -0.518968 -1.479381"
      ]
     },
     "execution_count": 36,
     "metadata": {},
     "output_type": "execute_result"
    }
   ],
   "source": [
    "df.loc[['A','C']][['Y','Z']] # select subset of the dataframe"
   ]
  },
  {
   "cell_type": "code",
   "execution_count": 37,
   "id": "11db3654",
   "metadata": {},
   "outputs": [
    {
     "data": {
      "text/html": [
       "<div>\n",
       "<style scoped>\n",
       "    .dataframe tbody tr th:only-of-type {\n",
       "        vertical-align: middle;\n",
       "    }\n",
       "\n",
       "    .dataframe tbody tr th {\n",
       "        vertical-align: top;\n",
       "    }\n",
       "\n",
       "    .dataframe thead th {\n",
       "        text-align: right;\n",
       "    }\n",
       "</style>\n",
       "<table border=\"1\" class=\"dataframe\">\n",
       "  <thead>\n",
       "    <tr style=\"text-align: right;\">\n",
       "      <th></th>\n",
       "      <th>Y</th>\n",
       "      <th>Z</th>\n",
       "    </tr>\n",
       "  </thead>\n",
       "  <tbody>\n",
       "    <tr>\n",
       "      <th>A</th>\n",
       "      <td>-0.791588</td>\n",
       "      <td>0.450087</td>\n",
       "    </tr>\n",
       "    <tr>\n",
       "      <th>C</th>\n",
       "      <td>-0.518968</td>\n",
       "      <td>-1.479381</td>\n",
       "    </tr>\n",
       "  </tbody>\n",
       "</table>\n",
       "</div>"
      ],
      "text/plain": [
       "          Y         Z\n",
       "A -0.791588  0.450087\n",
       "C -0.518968 -1.479381"
      ]
     },
     "execution_count": 37,
     "metadata": {},
     "output_type": "execute_result"
    }
   ],
   "source": [
    "df.loc[['A','C'],['Y','Z']] # select subset of the dataframe"
   ]
  },
  {
   "cell_type": "code",
   "execution_count": 38,
   "id": "7c2e0b5a",
   "metadata": {},
   "outputs": [
    {
     "data": {
      "text/html": [
       "<div>\n",
       "<style scoped>\n",
       "    .dataframe tbody tr th:only-of-type {\n",
       "        vertical-align: middle;\n",
       "    }\n",
       "\n",
       "    .dataframe tbody tr th {\n",
       "        vertical-align: top;\n",
       "    }\n",
       "\n",
       "    .dataframe thead th {\n",
       "        text-align: right;\n",
       "    }\n",
       "</style>\n",
       "<table border=\"1\" class=\"dataframe\">\n",
       "  <thead>\n",
       "    <tr style=\"text-align: right;\">\n",
       "      <th></th>\n",
       "      <th>W</th>\n",
       "      <th>X</th>\n",
       "      <th>Y</th>\n",
       "      <th>Z</th>\n",
       "    </tr>\n",
       "  </thead>\n",
       "  <tbody>\n",
       "    <tr>\n",
       "      <th>A</th>\n",
       "      <td>True</td>\n",
       "      <td>False</td>\n",
       "      <td>False</td>\n",
       "      <td>True</td>\n",
       "    </tr>\n",
       "    <tr>\n",
       "      <th>B</th>\n",
       "      <td>False</td>\n",
       "      <td>False</td>\n",
       "      <td>True</td>\n",
       "      <td>True</td>\n",
       "    </tr>\n",
       "    <tr>\n",
       "      <th>C</th>\n",
       "      <td>False</td>\n",
       "      <td>True</td>\n",
       "      <td>False</td>\n",
       "      <td>False</td>\n",
       "    </tr>\n",
       "    <tr>\n",
       "      <th>D</th>\n",
       "      <td>True</td>\n",
       "      <td>True</td>\n",
       "      <td>True</td>\n",
       "      <td>True</td>\n",
       "    </tr>\n",
       "    <tr>\n",
       "      <th>E</th>\n",
       "      <td>True</td>\n",
       "      <td>False</td>\n",
       "      <td>True</td>\n",
       "      <td>True</td>\n",
       "    </tr>\n",
       "  </tbody>\n",
       "</table>\n",
       "</div>"
      ],
      "text/plain": [
       "       W      X      Y      Z\n",
       "A   True  False  False   True\n",
       "B  False  False   True   True\n",
       "C  False   True  False  False\n",
       "D   True   True   True   True\n",
       "E   True  False   True   True"
      ]
     },
     "execution_count": 38,
     "metadata": {},
     "output_type": "execute_result"
    }
   ],
   "source": [
    "df>0 # conditional operations"
   ]
  },
  {
   "cell_type": "code",
   "execution_count": 39,
   "id": "ce231bd5",
   "metadata": {},
   "outputs": [
    {
     "data": {
      "text/html": [
       "<div>\n",
       "<style scoped>\n",
       "    .dataframe tbody tr th:only-of-type {\n",
       "        vertical-align: middle;\n",
       "    }\n",
       "\n",
       "    .dataframe tbody tr th {\n",
       "        vertical-align: top;\n",
       "    }\n",
       "\n",
       "    .dataframe thead th {\n",
       "        text-align: right;\n",
       "    }\n",
       "</style>\n",
       "<table border=\"1\" class=\"dataframe\">\n",
       "  <thead>\n",
       "    <tr style=\"text-align: right;\">\n",
       "      <th></th>\n",
       "      <th>W</th>\n",
       "      <th>X</th>\n",
       "      <th>Y</th>\n",
       "      <th>Z</th>\n",
       "    </tr>\n",
       "  </thead>\n",
       "  <tbody>\n",
       "    <tr>\n",
       "      <th>A</th>\n",
       "      <td>0.721552</td>\n",
       "      <td>NaN</td>\n",
       "      <td>NaN</td>\n",
       "      <td>0.450087</td>\n",
       "    </tr>\n",
       "    <tr>\n",
       "      <th>B</th>\n",
       "      <td>NaN</td>\n",
       "      <td>NaN</td>\n",
       "      <td>0.810763</td>\n",
       "      <td>1.216740</td>\n",
       "    </tr>\n",
       "    <tr>\n",
       "      <th>C</th>\n",
       "      <td>NaN</td>\n",
       "      <td>0.593010</td>\n",
       "      <td>NaN</td>\n",
       "      <td>NaN</td>\n",
       "    </tr>\n",
       "    <tr>\n",
       "      <th>D</th>\n",
       "      <td>0.058127</td>\n",
       "      <td>0.112999</td>\n",
       "      <td>0.459661</td>\n",
       "      <td>0.038857</td>\n",
       "    </tr>\n",
       "    <tr>\n",
       "      <th>E</th>\n",
       "      <td>0.753397</td>\n",
       "      <td>NaN</td>\n",
       "      <td>1.674774</td>\n",
       "      <td>1.744133</td>\n",
       "    </tr>\n",
       "  </tbody>\n",
       "</table>\n",
       "</div>"
      ],
      "text/plain": [
       "          W         X         Y         Z\n",
       "A  0.721552       NaN       NaN  0.450087\n",
       "B       NaN       NaN  0.810763  1.216740\n",
       "C       NaN  0.593010       NaN       NaN\n",
       "D  0.058127  0.112999  0.459661  0.038857\n",
       "E  0.753397       NaN  1.674774  1.744133"
      ]
     },
     "execution_count": 39,
     "metadata": {},
     "output_type": "execute_result"
    }
   ],
   "source": [
    "df[df>0] # conditional acess"
   ]
  },
  {
   "cell_type": "code",
   "execution_count": 40,
   "id": "6e425a28",
   "metadata": {},
   "outputs": [
    {
     "data": {
      "text/plain": [
       "A     True\n",
       "B    False\n",
       "C    False\n",
       "D     True\n",
       "E     True\n",
       "Name: W, dtype: bool"
      ]
     },
     "execution_count": 40,
     "metadata": {},
     "output_type": "execute_result"
    }
   ],
   "source": [
    "df['W']>0"
   ]
  },
  {
   "cell_type": "code",
   "execution_count": 41,
   "id": "4d6ac19b",
   "metadata": {},
   "outputs": [
    {
     "data": {
      "text/html": [
       "<div>\n",
       "<style scoped>\n",
       "    .dataframe tbody tr th:only-of-type {\n",
       "        vertical-align: middle;\n",
       "    }\n",
       "\n",
       "    .dataframe tbody tr th {\n",
       "        vertical-align: top;\n",
       "    }\n",
       "\n",
       "    .dataframe thead th {\n",
       "        text-align: right;\n",
       "    }\n",
       "</style>\n",
       "<table border=\"1\" class=\"dataframe\">\n",
       "  <thead>\n",
       "    <tr style=\"text-align: right;\">\n",
       "      <th></th>\n",
       "      <th>W</th>\n",
       "      <th>X</th>\n",
       "      <th>Y</th>\n",
       "      <th>Z</th>\n",
       "    </tr>\n",
       "  </thead>\n",
       "  <tbody>\n",
       "    <tr>\n",
       "      <th>A</th>\n",
       "      <td>0.721552</td>\n",
       "      <td>-1.914157</td>\n",
       "      <td>-0.791588</td>\n",
       "      <td>0.450087</td>\n",
       "    </tr>\n",
       "    <tr>\n",
       "      <th>D</th>\n",
       "      <td>0.058127</td>\n",
       "      <td>0.112999</td>\n",
       "      <td>0.459661</td>\n",
       "      <td>0.038857</td>\n",
       "    </tr>\n",
       "    <tr>\n",
       "      <th>E</th>\n",
       "      <td>0.753397</td>\n",
       "      <td>-0.535518</td>\n",
       "      <td>1.674774</td>\n",
       "      <td>1.744133</td>\n",
       "    </tr>\n",
       "  </tbody>\n",
       "</table>\n",
       "</div>"
      ],
      "text/plain": [
       "          W         X         Y         Z\n",
       "A  0.721552 -1.914157 -0.791588  0.450087\n",
       "D  0.058127  0.112999  0.459661  0.038857\n",
       "E  0.753397 -0.535518  1.674774  1.744133"
      ]
     },
     "execution_count": 41,
     "metadata": {},
     "output_type": "execute_result"
    }
   ],
   "source": [
    "df[df['W']>0] # conditional acess on columns"
   ]
  },
  {
   "cell_type": "code",
   "execution_count": 42,
   "id": "3c7aa3d8",
   "metadata": {},
   "outputs": [
    {
     "data": {
      "text/html": [
       "<div>\n",
       "<style scoped>\n",
       "    .dataframe tbody tr th:only-of-type {\n",
       "        vertical-align: middle;\n",
       "    }\n",
       "\n",
       "    .dataframe tbody tr th {\n",
       "        vertical-align: top;\n",
       "    }\n",
       "\n",
       "    .dataframe thead th {\n",
       "        text-align: right;\n",
       "    }\n",
       "</style>\n",
       "<table border=\"1\" class=\"dataframe\">\n",
       "  <thead>\n",
       "    <tr style=\"text-align: right;\">\n",
       "      <th></th>\n",
       "      <th>X</th>\n",
       "      <th>Y</th>\n",
       "    </tr>\n",
       "  </thead>\n",
       "  <tbody>\n",
       "    <tr>\n",
       "      <th>A</th>\n",
       "      <td>-1.914157</td>\n",
       "      <td>-0.791588</td>\n",
       "    </tr>\n",
       "    <tr>\n",
       "      <th>D</th>\n",
       "      <td>0.112999</td>\n",
       "      <td>0.459661</td>\n",
       "    </tr>\n",
       "    <tr>\n",
       "      <th>E</th>\n",
       "      <td>-0.535518</td>\n",
       "      <td>1.674774</td>\n",
       "    </tr>\n",
       "  </tbody>\n",
       "</table>\n",
       "</div>"
      ],
      "text/plain": [
       "          X         Y\n",
       "A -1.914157 -0.791588\n",
       "D  0.112999  0.459661\n",
       "E -0.535518  1.674774"
      ]
     },
     "execution_count": 42,
     "metadata": {},
     "output_type": "execute_result"
    }
   ],
   "source": [
    "df[df['W']>0][['X','Y']]"
   ]
  },
  {
   "cell_type": "code",
   "execution_count": 43,
   "id": "efd93785",
   "metadata": {},
   "outputs": [
    {
     "data": {
      "text/html": [
       "<div>\n",
       "<style scoped>\n",
       "    .dataframe tbody tr th:only-of-type {\n",
       "        vertical-align: middle;\n",
       "    }\n",
       "\n",
       "    .dataframe tbody tr th {\n",
       "        vertical-align: top;\n",
       "    }\n",
       "\n",
       "    .dataframe thead th {\n",
       "        text-align: right;\n",
       "    }\n",
       "</style>\n",
       "<table border=\"1\" class=\"dataframe\">\n",
       "  <thead>\n",
       "    <tr style=\"text-align: right;\">\n",
       "      <th></th>\n",
       "      <th>W</th>\n",
       "      <th>X</th>\n",
       "      <th>Y</th>\n",
       "      <th>Z</th>\n",
       "    </tr>\n",
       "  </thead>\n",
       "  <tbody>\n",
       "    <tr>\n",
       "      <th>E</th>\n",
       "      <td>0.753397</td>\n",
       "      <td>-0.535518</td>\n",
       "      <td>1.674774</td>\n",
       "      <td>1.744133</td>\n",
       "    </tr>\n",
       "  </tbody>\n",
       "</table>\n",
       "</div>"
      ],
      "text/plain": [
       "          W         X         Y         Z\n",
       "E  0.753397 -0.535518  1.674774  1.744133"
      ]
     },
     "execution_count": 43,
     "metadata": {},
     "output_type": "execute_result"
    }
   ],
   "source": [
    "# and/or operators do not work with pd.Series \n",
    "# conditions should be wrapped inside of ()\n",
    "df[(df['W']>0) & (df['Y']>1)] "
   ]
  },
  {
   "cell_type": "code",
   "execution_count": 44,
   "id": "4a427bbe",
   "metadata": {},
   "outputs": [
    {
     "data": {
      "text/html": [
       "<div>\n",
       "<style scoped>\n",
       "    .dataframe tbody tr th:only-of-type {\n",
       "        vertical-align: middle;\n",
       "    }\n",
       "\n",
       "    .dataframe tbody tr th {\n",
       "        vertical-align: top;\n",
       "    }\n",
       "\n",
       "    .dataframe thead th {\n",
       "        text-align: right;\n",
       "    }\n",
       "</style>\n",
       "<table border=\"1\" class=\"dataframe\">\n",
       "  <thead>\n",
       "    <tr style=\"text-align: right;\">\n",
       "      <th></th>\n",
       "      <th>index</th>\n",
       "      <th>W</th>\n",
       "      <th>X</th>\n",
       "      <th>Y</th>\n",
       "      <th>Z</th>\n",
       "    </tr>\n",
       "  </thead>\n",
       "  <tbody>\n",
       "    <tr>\n",
       "      <th>0</th>\n",
       "      <td>A</td>\n",
       "      <td>0.721552</td>\n",
       "      <td>-1.914157</td>\n",
       "      <td>-0.791588</td>\n",
       "      <td>0.450087</td>\n",
       "    </tr>\n",
       "    <tr>\n",
       "      <th>1</th>\n",
       "      <td>B</td>\n",
       "      <td>-1.128763</td>\n",
       "      <td>-0.750046</td>\n",
       "      <td>0.810763</td>\n",
       "      <td>1.216740</td>\n",
       "    </tr>\n",
       "    <tr>\n",
       "      <th>2</th>\n",
       "      <td>C</td>\n",
       "      <td>-0.887993</td>\n",
       "      <td>0.593010</td>\n",
       "      <td>-0.518968</td>\n",
       "      <td>-1.479381</td>\n",
       "    </tr>\n",
       "    <tr>\n",
       "      <th>3</th>\n",
       "      <td>D</td>\n",
       "      <td>0.058127</td>\n",
       "      <td>0.112999</td>\n",
       "      <td>0.459661</td>\n",
       "      <td>0.038857</td>\n",
       "    </tr>\n",
       "    <tr>\n",
       "      <th>4</th>\n",
       "      <td>E</td>\n",
       "      <td>0.753397</td>\n",
       "      <td>-0.535518</td>\n",
       "      <td>1.674774</td>\n",
       "      <td>1.744133</td>\n",
       "    </tr>\n",
       "  </tbody>\n",
       "</table>\n",
       "</div>"
      ],
      "text/plain": [
       "  index         W         X         Y         Z\n",
       "0     A  0.721552 -1.914157 -0.791588  0.450087\n",
       "1     B -1.128763 -0.750046  0.810763  1.216740\n",
       "2     C -0.887993  0.593010 -0.518968 -1.479381\n",
       "3     D  0.058127  0.112999  0.459661  0.038857\n",
       "4     E  0.753397 -0.535518  1.674774  1.744133"
      ]
     },
     "execution_count": 44,
     "metadata": {},
     "output_type": "execute_result"
    }
   ],
   "source": [
    "df.reset_index() # not inplace"
   ]
  },
  {
   "cell_type": "code",
   "execution_count": 45,
   "id": "d4f7d81a",
   "metadata": {},
   "outputs": [],
   "source": [
    "new_ind = 'CA NY WY OR CO'.split()"
   ]
  },
  {
   "cell_type": "code",
   "execution_count": 46,
   "id": "7072f4c2",
   "metadata": {},
   "outputs": [],
   "source": [
    "df['States'] = new_ind"
   ]
  },
  {
   "cell_type": "code",
   "execution_count": 47,
   "id": "520ee288",
   "metadata": {},
   "outputs": [
    {
     "data": {
      "text/html": [
       "<div>\n",
       "<style scoped>\n",
       "    .dataframe tbody tr th:only-of-type {\n",
       "        vertical-align: middle;\n",
       "    }\n",
       "\n",
       "    .dataframe tbody tr th {\n",
       "        vertical-align: top;\n",
       "    }\n",
       "\n",
       "    .dataframe thead th {\n",
       "        text-align: right;\n",
       "    }\n",
       "</style>\n",
       "<table border=\"1\" class=\"dataframe\">\n",
       "  <thead>\n",
       "    <tr style=\"text-align: right;\">\n",
       "      <th></th>\n",
       "      <th>W</th>\n",
       "      <th>X</th>\n",
       "      <th>Y</th>\n",
       "      <th>Z</th>\n",
       "      <th>States</th>\n",
       "    </tr>\n",
       "  </thead>\n",
       "  <tbody>\n",
       "    <tr>\n",
       "      <th>A</th>\n",
       "      <td>0.721552</td>\n",
       "      <td>-1.914157</td>\n",
       "      <td>-0.791588</td>\n",
       "      <td>0.450087</td>\n",
       "      <td>CA</td>\n",
       "    </tr>\n",
       "    <tr>\n",
       "      <th>B</th>\n",
       "      <td>-1.128763</td>\n",
       "      <td>-0.750046</td>\n",
       "      <td>0.810763</td>\n",
       "      <td>1.216740</td>\n",
       "      <td>NY</td>\n",
       "    </tr>\n",
       "    <tr>\n",
       "      <th>C</th>\n",
       "      <td>-0.887993</td>\n",
       "      <td>0.593010</td>\n",
       "      <td>-0.518968</td>\n",
       "      <td>-1.479381</td>\n",
       "      <td>WY</td>\n",
       "    </tr>\n",
       "    <tr>\n",
       "      <th>D</th>\n",
       "      <td>0.058127</td>\n",
       "      <td>0.112999</td>\n",
       "      <td>0.459661</td>\n",
       "      <td>0.038857</td>\n",
       "      <td>OR</td>\n",
       "    </tr>\n",
       "    <tr>\n",
       "      <th>E</th>\n",
       "      <td>0.753397</td>\n",
       "      <td>-0.535518</td>\n",
       "      <td>1.674774</td>\n",
       "      <td>1.744133</td>\n",
       "      <td>CO</td>\n",
       "    </tr>\n",
       "  </tbody>\n",
       "</table>\n",
       "</div>"
      ],
      "text/plain": [
       "          W         X         Y         Z States\n",
       "A  0.721552 -1.914157 -0.791588  0.450087     CA\n",
       "B -1.128763 -0.750046  0.810763  1.216740     NY\n",
       "C -0.887993  0.593010 -0.518968 -1.479381     WY\n",
       "D  0.058127  0.112999  0.459661  0.038857     OR\n",
       "E  0.753397 -0.535518  1.674774  1.744133     CO"
      ]
     },
     "execution_count": 47,
     "metadata": {},
     "output_type": "execute_result"
    }
   ],
   "source": [
    "df"
   ]
  },
  {
   "cell_type": "code",
   "execution_count": 48,
   "id": "21974e62",
   "metadata": {},
   "outputs": [
    {
     "data": {
      "text/html": [
       "<div>\n",
       "<style scoped>\n",
       "    .dataframe tbody tr th:only-of-type {\n",
       "        vertical-align: middle;\n",
       "    }\n",
       "\n",
       "    .dataframe tbody tr th {\n",
       "        vertical-align: top;\n",
       "    }\n",
       "\n",
       "    .dataframe thead th {\n",
       "        text-align: right;\n",
       "    }\n",
       "</style>\n",
       "<table border=\"1\" class=\"dataframe\">\n",
       "  <thead>\n",
       "    <tr style=\"text-align: right;\">\n",
       "      <th></th>\n",
       "      <th>W</th>\n",
       "      <th>X</th>\n",
       "      <th>Y</th>\n",
       "      <th>Z</th>\n",
       "    </tr>\n",
       "    <tr>\n",
       "      <th>States</th>\n",
       "      <th></th>\n",
       "      <th></th>\n",
       "      <th></th>\n",
       "      <th></th>\n",
       "    </tr>\n",
       "  </thead>\n",
       "  <tbody>\n",
       "    <tr>\n",
       "      <th>CA</th>\n",
       "      <td>0.721552</td>\n",
       "      <td>-1.914157</td>\n",
       "      <td>-0.791588</td>\n",
       "      <td>0.450087</td>\n",
       "    </tr>\n",
       "    <tr>\n",
       "      <th>NY</th>\n",
       "      <td>-1.128763</td>\n",
       "      <td>-0.750046</td>\n",
       "      <td>0.810763</td>\n",
       "      <td>1.216740</td>\n",
       "    </tr>\n",
       "    <tr>\n",
       "      <th>WY</th>\n",
       "      <td>-0.887993</td>\n",
       "      <td>0.593010</td>\n",
       "      <td>-0.518968</td>\n",
       "      <td>-1.479381</td>\n",
       "    </tr>\n",
       "    <tr>\n",
       "      <th>OR</th>\n",
       "      <td>0.058127</td>\n",
       "      <td>0.112999</td>\n",
       "      <td>0.459661</td>\n",
       "      <td>0.038857</td>\n",
       "    </tr>\n",
       "    <tr>\n",
       "      <th>CO</th>\n",
       "      <td>0.753397</td>\n",
       "      <td>-0.535518</td>\n",
       "      <td>1.674774</td>\n",
       "      <td>1.744133</td>\n",
       "    </tr>\n",
       "  </tbody>\n",
       "</table>\n",
       "</div>"
      ],
      "text/plain": [
       "               W         X         Y         Z\n",
       "States                                        \n",
       "CA      0.721552 -1.914157 -0.791588  0.450087\n",
       "NY     -1.128763 -0.750046  0.810763  1.216740\n",
       "WY     -0.887993  0.593010 -0.518968 -1.479381\n",
       "OR      0.058127  0.112999  0.459661  0.038857\n",
       "CO      0.753397 -0.535518  1.674774  1.744133"
      ]
     },
     "execution_count": 48,
     "metadata": {},
     "output_type": "execute_result"
    }
   ],
   "source": [
    "df.set_index('States') # not inplace"
   ]
  },
  {
   "cell_type": "code",
   "execution_count": 49,
   "id": "5767518d",
   "metadata": {},
   "outputs": [
    {
     "data": {
      "text/html": [
       "<div>\n",
       "<style scoped>\n",
       "    .dataframe tbody tr th:only-of-type {\n",
       "        vertical-align: middle;\n",
       "    }\n",
       "\n",
       "    .dataframe tbody tr th {\n",
       "        vertical-align: top;\n",
       "    }\n",
       "\n",
       "    .dataframe thead th {\n",
       "        text-align: right;\n",
       "    }\n",
       "</style>\n",
       "<table border=\"1\" class=\"dataframe\">\n",
       "  <thead>\n",
       "    <tr style=\"text-align: right;\">\n",
       "      <th></th>\n",
       "      <th>W</th>\n",
       "      <th>X</th>\n",
       "      <th>Y</th>\n",
       "      <th>Z</th>\n",
       "    </tr>\n",
       "    <tr>\n",
       "      <th>States</th>\n",
       "      <th></th>\n",
       "      <th></th>\n",
       "      <th></th>\n",
       "      <th></th>\n",
       "    </tr>\n",
       "  </thead>\n",
       "  <tbody>\n",
       "    <tr>\n",
       "      <th>CA</th>\n",
       "      <td>0.721552</td>\n",
       "      <td>-1.914157</td>\n",
       "      <td>-0.791588</td>\n",
       "      <td>0.450087</td>\n",
       "    </tr>\n",
       "    <tr>\n",
       "      <th>NY</th>\n",
       "      <td>-1.128763</td>\n",
       "      <td>-0.750046</td>\n",
       "      <td>0.810763</td>\n",
       "      <td>1.216740</td>\n",
       "    </tr>\n",
       "    <tr>\n",
       "      <th>WY</th>\n",
       "      <td>-0.887993</td>\n",
       "      <td>0.593010</td>\n",
       "      <td>-0.518968</td>\n",
       "      <td>-1.479381</td>\n",
       "    </tr>\n",
       "    <tr>\n",
       "      <th>OR</th>\n",
       "      <td>0.058127</td>\n",
       "      <td>0.112999</td>\n",
       "      <td>0.459661</td>\n",
       "      <td>0.038857</td>\n",
       "    </tr>\n",
       "    <tr>\n",
       "      <th>CO</th>\n",
       "      <td>0.753397</td>\n",
       "      <td>-0.535518</td>\n",
       "      <td>1.674774</td>\n",
       "      <td>1.744133</td>\n",
       "    </tr>\n",
       "  </tbody>\n",
       "</table>\n",
       "</div>"
      ],
      "text/plain": [
       "               W         X         Y         Z\n",
       "States                                        \n",
       "CA      0.721552 -1.914157 -0.791588  0.450087\n",
       "NY     -1.128763 -0.750046  0.810763  1.216740\n",
       "WY     -0.887993  0.593010 -0.518968 -1.479381\n",
       "OR      0.058127  0.112999  0.459661  0.038857\n",
       "CO      0.753397 -0.535518  1.674774  1.744133"
      ]
     },
     "execution_count": 49,
     "metadata": {},
     "output_type": "execute_result"
    }
   ],
   "source": [
    "df.set_index('States',inplace=True)\n",
    "df"
   ]
  },
  {
   "cell_type": "code",
   "execution_count": 50,
   "id": "f3675338",
   "metadata": {},
   "outputs": [
    {
     "name": "stdout",
     "output_type": "stream",
     "text": [
      "<class 'pandas.core.frame.DataFrame'>\n",
      "Index: 5 entries, CA to CO\n",
      "Data columns (total 4 columns):\n",
      " #   Column  Non-Null Count  Dtype  \n",
      "---  ------  --------------  -----  \n",
      " 0   W       5 non-null      float64\n",
      " 1   X       5 non-null      float64\n",
      " 2   Y       5 non-null      float64\n",
      " 3   Z       5 non-null      float64\n",
      "dtypes: float64(4)\n",
      "memory usage: 200.0+ bytes\n"
     ]
    }
   ],
   "source": [
    "df.info()"
   ]
  },
  {
   "cell_type": "code",
   "execution_count": 51,
   "id": "2b816216",
   "metadata": {},
   "outputs": [
    {
     "data": {
      "text/plain": [
       "W    float64\n",
       "X    float64\n",
       "Y    float64\n",
       "Z    float64\n",
       "dtype: object"
      ]
     },
     "execution_count": 51,
     "metadata": {},
     "output_type": "execute_result"
    }
   ],
   "source": [
    "df.dtypes"
   ]
  },
  {
   "cell_type": "code",
   "execution_count": 52,
   "id": "a59f05c8",
   "metadata": {},
   "outputs": [
    {
     "data": {
      "text/html": [
       "<div>\n",
       "<style scoped>\n",
       "    .dataframe tbody tr th:only-of-type {\n",
       "        vertical-align: middle;\n",
       "    }\n",
       "\n",
       "    .dataframe tbody tr th {\n",
       "        vertical-align: top;\n",
       "    }\n",
       "\n",
       "    .dataframe thead th {\n",
       "        text-align: right;\n",
       "    }\n",
       "</style>\n",
       "<table border=\"1\" class=\"dataframe\">\n",
       "  <thead>\n",
       "    <tr style=\"text-align: right;\">\n",
       "      <th></th>\n",
       "      <th>W</th>\n",
       "      <th>X</th>\n",
       "      <th>Y</th>\n",
       "      <th>Z</th>\n",
       "    </tr>\n",
       "  </thead>\n",
       "  <tbody>\n",
       "    <tr>\n",
       "      <th>count</th>\n",
       "      <td>5.000000</td>\n",
       "      <td>5.000000</td>\n",
       "      <td>5.000000</td>\n",
       "      <td>5.000000</td>\n",
       "    </tr>\n",
       "    <tr>\n",
       "      <th>mean</th>\n",
       "      <td>-0.096736</td>\n",
       "      <td>-0.498742</td>\n",
       "      <td>0.326928</td>\n",
       "      <td>0.394087</td>\n",
       "    </tr>\n",
       "    <tr>\n",
       "      <th>std</th>\n",
       "      <td>0.881401</td>\n",
       "      <td>0.953160</td>\n",
       "      <td>1.004368</td>\n",
       "      <td>1.238809</td>\n",
       "    </tr>\n",
       "    <tr>\n",
       "      <th>min</th>\n",
       "      <td>-1.128763</td>\n",
       "      <td>-1.914157</td>\n",
       "      <td>-0.791588</td>\n",
       "      <td>-1.479381</td>\n",
       "    </tr>\n",
       "    <tr>\n",
       "      <th>25%</th>\n",
       "      <td>-0.887993</td>\n",
       "      <td>-0.750046</td>\n",
       "      <td>-0.518968</td>\n",
       "      <td>0.038857</td>\n",
       "    </tr>\n",
       "    <tr>\n",
       "      <th>50%</th>\n",
       "      <td>0.058127</td>\n",
       "      <td>-0.535518</td>\n",
       "      <td>0.459661</td>\n",
       "      <td>0.450087</td>\n",
       "    </tr>\n",
       "    <tr>\n",
       "      <th>75%</th>\n",
       "      <td>0.721552</td>\n",
       "      <td>0.112999</td>\n",
       "      <td>0.810763</td>\n",
       "      <td>1.216740</td>\n",
       "    </tr>\n",
       "    <tr>\n",
       "      <th>max</th>\n",
       "      <td>0.753397</td>\n",
       "      <td>0.593010</td>\n",
       "      <td>1.674774</td>\n",
       "      <td>1.744133</td>\n",
       "    </tr>\n",
       "  </tbody>\n",
       "</table>\n",
       "</div>"
      ],
      "text/plain": [
       "              W         X         Y         Z\n",
       "count  5.000000  5.000000  5.000000  5.000000\n",
       "mean  -0.096736 -0.498742  0.326928  0.394087\n",
       "std    0.881401  0.953160  1.004368  1.238809\n",
       "min   -1.128763 -1.914157 -0.791588 -1.479381\n",
       "25%   -0.887993 -0.750046 -0.518968  0.038857\n",
       "50%    0.058127 -0.535518  0.459661  0.450087\n",
       "75%    0.721552  0.112999  0.810763  1.216740\n",
       "max    0.753397  0.593010  1.674774  1.744133"
      ]
     },
     "execution_count": 52,
     "metadata": {},
     "output_type": "execute_result"
    }
   ],
   "source": [
    "df.describe()"
   ]
  },
  {
   "cell_type": "code",
   "execution_count": 53,
   "id": "7267e5cc",
   "metadata": {},
   "outputs": [
    {
     "data": {
      "text/plain": [
       "States\n",
       "CA     True\n",
       "NY    False\n",
       "WY    False\n",
       "OR     True\n",
       "CO     True\n",
       "Name: W, dtype: bool"
      ]
     },
     "execution_count": 53,
     "metadata": {},
     "output_type": "execute_result"
    }
   ],
   "source": [
    "df['W']>0"
   ]
  },
  {
   "cell_type": "code",
   "execution_count": 54,
   "id": "b7b19227",
   "metadata": {},
   "outputs": [],
   "source": [
    "series = df['W']>0"
   ]
  },
  {
   "cell_type": "code",
   "execution_count": 55,
   "id": "e7e94c1a",
   "metadata": {},
   "outputs": [
    {
     "data": {
      "text/plain": [
       "True     3\n",
       "False    2\n",
       "Name: W, dtype: int64"
      ]
     },
     "execution_count": 55,
     "metadata": {},
     "output_type": "execute_result"
    }
   ],
   "source": [
    "series.value_counts()"
   ]
  },
  {
   "cell_type": "code",
   "execution_count": null,
   "id": "f76f7514",
   "metadata": {},
   "outputs": [],
   "source": []
  }
 ],
 "metadata": {
  "kernelspec": {
   "display_name": "Python 3",
   "language": "python",
   "name": "python3"
  },
  "language_info": {
   "codemirror_mode": {
    "name": "ipython",
    "version": 3
   },
   "file_extension": ".py",
   "mimetype": "text/x-python",
   "name": "python",
   "nbconvert_exporter": "python",
   "pygments_lexer": "ipython3",
   "version": "3.8.8"
  }
 },
 "nbformat": 4,
 "nbformat_minor": 5
}
