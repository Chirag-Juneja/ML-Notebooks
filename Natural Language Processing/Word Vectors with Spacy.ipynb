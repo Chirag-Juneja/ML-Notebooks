{
 "cells": [
  {
   "cell_type": "markdown",
   "id": "a8415597",
   "metadata": {},
   "source": [
    "# Word Vectors with Spacy\n",
    "\n",
    "Word vectors, or word embeddings, are numerical erpresentations of words in multidimensional space through matrices."
   ]
  },
  {
   "cell_type": "code",
   "execution_count": 1,
   "id": "0033fd91",
   "metadata": {},
   "outputs": [],
   "source": [
    "import numpy as np\n",
    "import spacy"
   ]
  },
  {
   "cell_type": "code",
   "execution_count": 2,
   "id": "fc07183b",
   "metadata": {},
   "outputs": [],
   "source": [
    "model = spacy.load(\"en_core_web_md\")"
   ]
  },
  {
   "cell_type": "code",
   "execution_count": 3,
   "id": "5895ef07",
   "metadata": {},
   "outputs": [],
   "source": [
    "with open(\"data/wiki_us.txt\") as f:\n",
    "    txt = f.read()"
   ]
  },
  {
   "cell_type": "code",
   "execution_count": 4,
   "id": "870a95f0",
   "metadata": {},
   "outputs": [],
   "source": [
    "doc = model(txt)"
   ]
  },
  {
   "cell_type": "code",
   "execution_count": 5,
   "id": "e6c59f72",
   "metadata": {},
   "outputs": [
    {
     "name": "stdout",
     "output_type": "stream",
     "text": [
      "The United States of America (U.S.A. or USA), commonly known as the United States (U.S. or US) or America, is a country primarily located in North America.\n"
     ]
    }
   ],
   "source": [
    "sentence = list(doc.sents)[0]\n",
    "print(sentence)"
   ]
  },
  {
   "cell_type": "code",
   "execution_count": 6,
   "id": "a1ee2260",
   "metadata": {},
   "outputs": [],
   "source": [
    "word = \"country\""
   ]
  },
  {
   "cell_type": "code",
   "execution_count": 7,
   "id": "2fa6c27e",
   "metadata": {},
   "outputs": [
    {
     "data": {
      "text/plain": [
       "12290671265767728302"
      ]
     },
     "execution_count": 7,
     "metadata": {},
     "output_type": "execute_result"
    }
   ],
   "source": [
    "model.vocab.strings[word]"
   ]
  },
  {
   "cell_type": "code",
   "execution_count": 8,
   "id": "db6cc2ea",
   "metadata": {},
   "outputs": [
    {
     "data": {
      "text/plain": [
       "array([ 7.3677e-02,  5.2156e-01,  3.1504e-01, -2.5743e-01,  6.3185e-01,\n",
       "       -1.4061e-01,  4.4108e-02,  5.5817e-02, -4.5327e-01,  3.3915e+00,\n",
       "       -8.8491e-01,  1.4696e-02, -4.4164e-01, -2.7146e-01,  6.5846e-02,\n",
       "       -1.4115e-01, -1.8359e-01,  5.5882e-01,  3.4735e-01,  4.9206e-01,\n",
       "       -2.9363e-01,  1.5864e-01,  1.8245e-01,  2.4616e-01, -5.4651e-02,\n",
       "       -2.6116e-01, -2.0582e-01,  1.7782e-01, -2.3421e-01,  2.0985e-01,\n",
       "        3.4395e-01, -7.5486e-03,  1.1200e-01, -4.3141e-01,  7.9923e-02,\n",
       "       -1.0038e-01, -1.5685e-01, -2.8106e-01,  1.3058e-01,  4.1862e-01,\n",
       "       -8.8605e-02,  2.7584e-01,  2.5731e-01,  1.9394e-01, -2.0442e-01,\n",
       "       -4.4856e-01,  4.8795e-01, -2.4139e-01,  9.9646e-02, -3.3894e-01,\n",
       "       -6.3024e-01,  2.4977e-01, -4.6698e-02, -3.4425e-01,  3.9504e-01,\n",
       "       -1.0694e-01,  1.5900e-01, -2.0601e-01,  3.7994e-01, -1.8441e-01,\n",
       "       -1.1135e-02,  4.4415e-01, -1.6894e-01,  4.8023e-01, -1.4859e-01,\n",
       "        2.5886e-01, -1.5207e-01,  6.8721e-02,  3.1572e-01,  9.3189e-02,\n",
       "       -1.5450e-01,  1.5372e-01,  8.5520e-02,  7.5760e-02,  3.7679e-02,\n",
       "       -1.1032e-01, -4.6535e-01,  6.0151e-02,  2.2266e-01, -5.7096e-02,\n",
       "        2.4310e-01,  7.7502e-02, -2.7466e-02,  2.2253e-01,  6.3764e-02,\n",
       "       -1.1032e-01, -5.1599e-01, -2.6317e-01,  2.4936e-01,  6.5643e-02,\n",
       "       -6.3565e-01,  4.2987e-01, -2.9761e-02,  3.4310e-01,  3.6958e-01,\n",
       "       -1.4985e-01, -1.0331e-02,  3.5013e-01,  2.3337e-01, -2.6436e-02,\n",
       "        5.8446e-02,  2.4483e-01,  6.2583e-02, -8.0011e-02,  2.8214e-02,\n",
       "       -1.2912e+00, -1.8775e-01, -6.0695e-01, -6.3716e-03,  1.4873e-01,\n",
       "        2.6929e-02,  1.5888e-01, -3.2923e-01,  7.3494e-02, -2.1069e-01,\n",
       "        1.9517e-01,  4.3057e-01,  2.2497e-01, -3.8262e-01, -2.2372e-01,\n",
       "       -1.5670e-01,  4.0250e-01, -3.7874e-03, -2.9402e-01, -1.0453e-01,\n",
       "        1.4050e-01,  3.7299e-01, -1.3432e-01,  1.8656e-01,  1.2897e-01,\n",
       "        1.3341e-01,  2.1084e-01, -1.5417e-01,  2.3159e-01,  1.4429e-01,\n",
       "       -5.6674e-02, -1.5820e-01, -9.0158e-02,  1.5389e-01,  2.0603e-02,\n",
       "       -1.2563e+00, -7.2555e-02,  4.7897e-01, -1.1825e-01, -1.3344e-01,\n",
       "       -3.2498e-01,  3.1805e-01,  3.6749e-01, -6.3748e-02, -3.3200e-02,\n",
       "       -7.8104e-02,  5.4223e-01,  1.7810e-01,  3.1970e-02,  1.3234e-01,\n",
       "       -2.0405e-01,  1.3638e-01,  1.5627e-01, -1.8841e-01,  1.6863e-01,\n",
       "        2.8886e-01,  6.3842e-01,  3.4370e-01,  2.6142e-01, -2.7519e-01,\n",
       "       -8.1966e-02,  1.8173e-01, -7.9317e-01,  2.9495e-01, -8.9134e-02,\n",
       "       -2.5122e-02, -6.2730e-02, -4.3742e-01, -9.4726e-02,  2.3308e-01,\n",
       "       -3.1573e-03, -2.4452e-01, -1.6524e-01,  3.3000e-01,  2.2750e-01,\n",
       "       -5.5493e-02,  2.2030e-01, -3.4697e-02, -1.6371e-01, -3.0245e-02,\n",
       "       -2.1101e-01, -3.8922e-03, -6.0171e-01,  2.5657e-01, -7.7900e-02,\n",
       "        4.8353e-02, -1.2459e-01,  4.3748e-01, -3.2650e-01, -4.4642e-01,\n",
       "       -2.6771e-01, -2.6969e-01,  1.0791e-02,  1.2442e-01, -1.4951e-01,\n",
       "        7.3467e-02,  2.7785e-01, -9.9041e-02,  4.7987e-01,  8.1533e-01,\n",
       "       -8.6449e-02,  1.0389e-01, -1.3790e-01,  3.2915e-01, -4.2558e-01,\n",
       "       -1.4294e-02, -1.0049e-01,  2.0973e-01,  1.8192e-01,  3.5562e-02,\n",
       "        2.0906e-01, -2.5884e-01,  3.5913e-02, -3.9429e-01,  4.0285e-01,\n",
       "       -9.9147e-02,  4.2667e-01,  1.6450e-01, -3.7389e-02,  2.1325e-01,\n",
       "        2.3748e-01,  1.8422e-01,  4.8579e-02, -1.5025e-01,  4.0550e-01,\n",
       "       -1.6716e-01,  1.5850e-01,  1.3047e-01, -2.7072e-01, -1.6372e-01,\n",
       "       -1.2832e-01, -2.9426e-01, -3.2611e-01, -1.2043e-01, -3.1426e-02,\n",
       "       -5.2571e-01,  6.9698e-02,  2.6968e-01,  2.3319e-01, -2.3935e-02,\n",
       "       -1.3453e-01,  3.6339e-01,  2.8202e-02, -2.4358e-01, -3.6910e-01,\n",
       "        5.0481e-01,  1.7517e-01,  3.0220e-01,  3.0645e-01, -3.1637e-01,\n",
       "        5.5520e-01,  4.2868e-01,  4.9956e-03, -6.5471e-01,  4.0311e-01,\n",
       "       -3.1145e-01,  1.3433e-01, -1.5962e-01,  7.6983e-02, -8.0440e-02,\n",
       "       -5.7552e-01, -2.4244e-01, -9.1352e-02,  6.6212e-02,  2.1943e-01,\n",
       "       -2.7501e-01, -7.3063e-03, -2.5534e-01, -4.3932e-01,  1.3570e-01,\n",
       "        5.0314e-02,  5.1101e-02,  1.9769e-01,  3.5440e-01, -4.9134e-01,\n",
       "       -3.5106e-01,  1.5612e-02, -3.3875e-01,  1.7543e-01,  6.5076e-02,\n",
       "       -2.6565e-01,  2.1258e-01,  6.5287e-02, -1.1036e-01,  2.8950e-02,\n",
       "       -1.9406e-01, -1.3524e-01, -2.1956e-01, -4.6050e-01,  1.3587e-01,\n",
       "       -1.5926e-01,  5.9141e-02,  3.6609e-02, -1.2966e-01,  1.6430e-01],\n",
       "      dtype=float32)"
      ]
     },
     "execution_count": 8,
     "metadata": {},
     "output_type": "execute_result"
    }
   ],
   "source": [
    "model.vocab.vectors[model.vocab.strings[word]]"
   ]
  },
  {
   "cell_type": "markdown",
   "id": "55b7deb6",
   "metadata": {},
   "source": [
    "## Similar Words"
   ]
  },
  {
   "cell_type": "code",
   "execution_count": 9,
   "id": "3db06ad3",
   "metadata": {},
   "outputs": [],
   "source": [
    "similar_words = model.vocab.vectors.most_similar(\n",
    "    np.asarray([model.vocab.vectors[model.vocab.strings[word]]]), n=10\n",
    ")"
   ]
  },
  {
   "cell_type": "code",
   "execution_count": 10,
   "id": "012e4371",
   "metadata": {},
   "outputs": [],
   "source": [
    "words = [model.vocab.strings[w] for w in similar_words[0][0]]"
   ]
  },
  {
   "cell_type": "code",
   "execution_count": 11,
   "id": "d6822450",
   "metadata": {},
   "outputs": [
    {
     "name": "stdout",
     "output_type": "stream",
     "text": [
      "['country', 'COUNTRY', 'NATION', 'nation', 'COUNTIRES', 'nations', 'member-states', 'worLd', 'World', 'world']\n"
     ]
    }
   ],
   "source": [
    "print(words)"
   ]
  },
  {
   "cell_type": "markdown",
   "id": "a401ef76",
   "metadata": {},
   "source": [
    "## Doc Similarity"
   ]
  },
  {
   "cell_type": "code",
   "execution_count": 12,
   "id": "9c625c48",
   "metadata": {},
   "outputs": [
    {
     "name": "stdout",
     "output_type": "stream",
     "text": [
      "I like salty fries and hamburgers. <-> Fast food tastes very good. 0.7799485853415737\n"
     ]
    }
   ],
   "source": [
    "doc1 = model(\"I like salty fries and hamburgers.\")\n",
    "doc2 = model(\"Fast food tastes very good.\")\n",
    "\n",
    "print(doc1, \"<->\", doc2, doc1.similarity(doc2))"
   ]
  },
  {
   "cell_type": "markdown",
   "id": "9cb1d4dd",
   "metadata": {},
   "source": [
    "## Word Similarity"
   ]
  },
  {
   "cell_type": "code",
   "execution_count": 13,
   "id": "927eccb0",
   "metadata": {},
   "outputs": [
    {
     "name": "stdout",
     "output_type": "stream",
     "text": [
      "french fries <-> burgers 0.6947320615296676\n"
     ]
    }
   ],
   "source": [
    "french_fries = model(\"french fries\")\n",
    "burgers = model(\"burgers\")\n",
    "print(french_fries, \"<->\", burgers, french_fries.similarity(burgers))"
   ]
  }
 ],
 "metadata": {
  "kernelspec": {
   "display_name": "Python 3",
   "language": "python",
   "name": "python3"
  },
  "language_info": {
   "codemirror_mode": {
    "name": "ipython",
    "version": 3
   },
   "file_extension": ".py",
   "mimetype": "text/x-python",
   "name": "python",
   "nbconvert_exporter": "python",
   "pygments_lexer": "ipython3",
   "version": "3.8.8"
  }
 },
 "nbformat": 4,
 "nbformat_minor": 5
}
