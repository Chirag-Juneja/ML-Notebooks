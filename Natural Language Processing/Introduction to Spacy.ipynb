{
 "cells": [
  {
   "cell_type": "markdown",
   "id": "a7e10585",
   "metadata": {},
   "source": [
    "# Introduction to Spacy"
   ]
  },
  {
   "cell_type": "markdown",
   "id": "533578fe",
   "metadata": {},
   "source": [
    "## Containers\n",
    "Containers are spaCy objects that contain a large quantity of dat about a text. When we analyze texts with spaCy framework, we create different container objects to do that.\n",
    "\n",
    "* Doc\n",
    "* DocBin\n",
    "* Example\n",
    "* Language\n",
    "* Lexeme\n",
    "* Span\n",
    "* SpanGroup\n",
    "* Token"
   ]
  },
  {
   "cell_type": "code",
   "execution_count": 1,
   "id": "a86dab60",
   "metadata": {},
   "outputs": [],
   "source": [
    "import spacy"
   ]
  },
  {
   "cell_type": "code",
   "execution_count": 2,
   "id": "592c0dd6",
   "metadata": {},
   "outputs": [],
   "source": [
    "model = spacy.load(\"en_core_web_sm\")"
   ]
  },
  {
   "cell_type": "code",
   "execution_count": 3,
   "id": "7a427c5c",
   "metadata": {},
   "outputs": [],
   "source": [
    "with open(\"data/wiki_us.txt\") as f:\n",
    "    txt = f.read()"
   ]
  },
  {
   "cell_type": "code",
   "execution_count": 4,
   "id": "abd33c97",
   "metadata": {},
   "outputs": [
    {
     "name": "stdout",
     "output_type": "stream",
     "text": [
      "The United States of America (U.S.A. or USA), commonly known as the United States (U.S. or US) or America, is a country primarily located in North America. It consists of 50 states, a federal district, five major unincorporated territories, 326 Indian reservations, and some minor possessions.[j] At 3.8 million square miles (9.8 million square kilometers), it is the world's third- or fourth-largest country by total area.[d] The United States shares significant land borders with Canada to the north and Mexico to the south, as well as limited maritime borders with the Bahamas, Cuba, and Russia.[22] With a population of more than 331 million people, it is the third most populous country in the world. The national capital is Washington, D.C., and the most populous city is New York.\n",
      "\n",
      "Paleo-Indians migrated from Siberia to the North American mainland at least 12,000 years ago, and European colonization began in the 16th century. The United States emerged from the thirteen British colonies established along the East Coast. Disputes over taxation and political representation with Great Britain led to the American Revolutionary War (1775â€“1783), which established independence. In the late 18th century, the U.S. began expanding across North America, gradually obtaining new territories, sometimes through war, frequently displacing Native Americans, and admitting new states; by 1848, the United States spanned the continent. Slavery was legal in the southern United States until the second half of the 19th century when the American Civil War led to its abolition. The Spanishâ€“American War and World War I established the U.S. as a world power, a status confirmed by the outcome of World War II.\n",
      "\n",
      "During the Cold War, the United States fought the Korean War and the Vietnam War but avoided direct military conflict with the Soviet Union. The two superpowers competed in the Space Race, culminating in the 1969 spaceflight that first landed humans on the Moon. The Soviet Union's dissolution in 1991 ended the Cold War, leaving the United States as the world's sole superpower.\n",
      "\n",
      "The United States is a federal republic and a representative democracy with three separate branches of government, including a bicameral legislature. It is a founding member of the United Nations, World Bank, International Monetary Fund, Organization of American States, NATO, and other international organizations. It is a permanent member of the United Nations Security Council. Considered a melting pot of cultures and ethnicities, its population has been profoundly shaped by centuries of immigration. The country ranks high in international measures of economic freedom, quality of life, education, and human rights, and has low levels of perceived corruption. However, the country has received criticism concerning inequality related to race, wealth and income, the use of capital punishment, high incarceration rates, and lack of universal health care.\n",
      "\n",
      "The United States is a highly developed country, accounts for approximately a quarter of global GDP, and is the world's largest economy. By value, the United States is the world's largest importer and the second-largest exporter of goods. Although its population is only 4.2% of the world's total, it holds 29.4% of the total wealth in the world, the largest share held by any country. Making up more than a third of global military spending, it is the foremost military power in the world; and it is a leading political, cultural, and scientific force internationally.[23]\n"
     ]
    }
   ],
   "source": [
    "print(txt)"
   ]
  },
  {
   "cell_type": "markdown",
   "id": "00a6e0f6",
   "metadata": {},
   "source": [
    "### Doc Container\n",
    "In NLP, sentence boundary detection, or SBD, is the identification of sentences in a text. Again, this may seem fairly easy to do with rules."
   ]
  },
  {
   "cell_type": "code",
   "execution_count": 5,
   "id": "f50cbc77",
   "metadata": {},
   "outputs": [],
   "source": [
    "doc = model(txt)"
   ]
  },
  {
   "cell_type": "code",
   "execution_count": 6,
   "id": "b6a70e5e",
   "metadata": {},
   "outputs": [
    {
     "data": {
      "text/plain": [
       "'The United'"
      ]
     },
     "execution_count": 6,
     "metadata": {},
     "output_type": "execute_result"
    }
   ],
   "source": [
    "txt[:10]"
   ]
  },
  {
   "cell_type": "code",
   "execution_count": 7,
   "id": "7f5881fa",
   "metadata": {},
   "outputs": [
    {
     "data": {
      "text/plain": [
       "The United States of America (U.S.A. or USA)"
      ]
     },
     "execution_count": 7,
     "metadata": {},
     "output_type": "execute_result"
    }
   ],
   "source": [
    "# doc object automatically tokenizes the text\n",
    "doc[:10]"
   ]
  },
  {
   "cell_type": "code",
   "execution_count": 8,
   "id": "2ac450cf",
   "metadata": {},
   "outputs": [],
   "source": [
    "sentence = list(doc.sents)[0]"
   ]
  },
  {
   "cell_type": "code",
   "execution_count": 9,
   "id": "364cc2b5",
   "metadata": {},
   "outputs": [
    {
     "data": {
      "text/plain": [
       "The United States of America (U.S.A. or USA), commonly known as the United States (U.S. or US) or America, is a country primarily located in North America."
      ]
     },
     "execution_count": 9,
     "metadata": {},
     "output_type": "execute_result"
    }
   ],
   "source": [
    "sentence"
   ]
  },
  {
   "cell_type": "markdown",
   "id": "c286c0b9",
   "metadata": {},
   "source": [
    "### Tokens\n",
    "The token object contains a lot of different attributes that are VITAL to perform NLP with spaCy.\n",
    "\n",
    "* .text\n",
    "* .head\n",
    "* .left_edge\n",
    "* .right_edge\n",
    "* .ent_type_\n",
    "* .iob_\n",
    "* .lemma_\n",
    "* .morph\n",
    "* .pos_\n",
    "* .dep_\n",
    "* .lang_"
   ]
  },
  {
   "cell_type": "code",
   "execution_count": 10,
   "id": "db800acd",
   "metadata": {},
   "outputs": [],
   "source": [
    "token = sentence[2]"
   ]
  },
  {
   "cell_type": "code",
   "execution_count": 11,
   "id": "346c45fb",
   "metadata": {},
   "outputs": [
    {
     "data": {
      "text/plain": [
       "States"
      ]
     },
     "execution_count": 11,
     "metadata": {},
     "output_type": "execute_result"
    }
   ],
   "source": [
    "token"
   ]
  },
  {
   "cell_type": "code",
   "execution_count": 12,
   "id": "f7a57988",
   "metadata": {},
   "outputs": [
    {
     "data": {
      "text/plain": [
       "'States'"
      ]
     },
     "execution_count": 12,
     "metadata": {},
     "output_type": "execute_result"
    }
   ],
   "source": [
    "'''\n",
    "Verbatim text content.\n",
    "'''\n",
    "token.text"
   ]
  },
  {
   "cell_type": "code",
   "execution_count": 13,
   "id": "57e16b3a",
   "metadata": {},
   "outputs": [
    {
     "data": {
      "text/plain": [
       "is"
      ]
     },
     "execution_count": 13,
     "metadata": {},
     "output_type": "execute_result"
    }
   ],
   "source": [
    "'''\n",
    "The syntactiv parent, or \"governor\", of this token.\n",
    "'''\n",
    "token.head"
   ]
  },
  {
   "cell_type": "code",
   "execution_count": 14,
   "id": "3b9bee63",
   "metadata": {},
   "outputs": [
    {
     "data": {
      "text/plain": [
       "The"
      ]
     },
     "execution_count": 14,
     "metadata": {},
     "output_type": "execute_result"
    }
   ],
   "source": [
    "'''\n",
    "The leftmost token of this token's syntactic descendants.\n",
    "If part of a sequence of tokens that are collectively meaningful,\n",
    "known as multi-word tokens, this will tell us where the multi-word token begins.\n",
    "'''\n",
    "token.left_edge"
   ]
  },
  {
   "cell_type": "code",
   "execution_count": 15,
   "id": "f720f8e5",
   "metadata": {},
   "outputs": [
    {
     "data": {
      "text/plain": [
       ","
      ]
     },
     "execution_count": 15,
     "metadata": {},
     "output_type": "execute_result"
    }
   ],
   "source": [
    "'''\n",
    "The rightmost token of this token's syntactic descendants.\n",
    "This will tell us where the multi-word token ends.\n",
    "'''\n",
    "token.right_edge"
   ]
  },
  {
   "cell_type": "code",
   "execution_count": 16,
   "id": "e764ce14",
   "metadata": {},
   "outputs": [
    {
     "data": {
      "text/plain": [
       "(384, 'GPE')"
      ]
     },
     "execution_count": 16,
     "metadata": {},
     "output_type": "execute_result"
    }
   ],
   "source": [
    "'''\n",
    "Named entity type.\n",
    "'''\n",
    "token.ent_type, token.ent_type_"
   ]
  },
  {
   "cell_type": "code",
   "execution_count": 17,
   "id": "ef6d4226",
   "metadata": {},
   "outputs": [
    {
     "data": {
      "text/plain": [
       "'I'"
      ]
     },
     "execution_count": 17,
     "metadata": {},
     "output_type": "execute_result"
    }
   ],
   "source": [
    "'''\n",
    "IOB code of named entity tag.\n",
    "“B” means the token begins an entity,\n",
    "“I” means it is inside an entity,\n",
    "“O” means it is outside an entity,\n",
    "and \"\" means no entity tag is set.\n",
    "'''\n",
    "token.ent_iob_"
   ]
  },
  {
   "cell_type": "code",
   "execution_count": 18,
   "id": "1ce2953e",
   "metadata": {},
   "outputs": [
    {
     "data": {
      "text/plain": [
       "'States'"
      ]
     },
     "execution_count": 18,
     "metadata": {},
     "output_type": "execute_result"
    }
   ],
   "source": [
    "'''Base form of the token, with no inflection suffixes.'''\n",
    "token.lemma_"
   ]
  },
  {
   "cell_type": "code",
   "execution_count": 19,
   "id": "ca0aa714",
   "metadata": {},
   "outputs": [
    {
     "data": {
      "text/plain": [
       "(known, 'know')"
      ]
     },
     "execution_count": 19,
     "metadata": {},
     "output_type": "execute_result"
    }
   ],
   "source": [
    "doc[12], doc[12].lemma_"
   ]
  },
  {
   "cell_type": "code",
   "execution_count": 20,
   "id": "4afe688e",
   "metadata": {},
   "outputs": [
    {
     "data": {
      "text/plain": [
       "Number=Sing"
      ]
     },
     "execution_count": 20,
     "metadata": {},
     "output_type": "execute_result"
    }
   ],
   "source": [
    "'''\n",
    "Morphological analysis\n",
    "'''\n",
    "token.morph"
   ]
  },
  {
   "cell_type": "code",
   "execution_count": 21,
   "id": "22dbf709",
   "metadata": {},
   "outputs": [
    {
     "data": {
      "text/plain": [
       "'PROPN'"
      ]
     },
     "execution_count": 21,
     "metadata": {},
     "output_type": "execute_result"
    }
   ],
   "source": [
    "'''\n",
    "Coarse-grained part-of-speech from the Universal POS tag set.\n",
    "'''\n",
    "token.pos_"
   ]
  },
  {
   "cell_type": "code",
   "execution_count": 22,
   "id": "3e4490b5",
   "metadata": {},
   "outputs": [
    {
     "data": {
      "text/plain": [
       "'nsubj'"
      ]
     },
     "execution_count": 22,
     "metadata": {},
     "output_type": "execute_result"
    }
   ],
   "source": [
    "'''\n",
    "Syntactic dependency relation.\n",
    "'''\n",
    "token.dep_"
   ]
  },
  {
   "cell_type": "code",
   "execution_count": 23,
   "id": "96a95823",
   "metadata": {},
   "outputs": [
    {
     "data": {
      "text/plain": [
       "'en'"
      ]
     },
     "execution_count": 23,
     "metadata": {},
     "output_type": "execute_result"
    }
   ],
   "source": [
    "'''\n",
    "Language of the parent document’s vocabulary.\n",
    "'''\n",
    "token.lang_"
   ]
  }
 ],
 "metadata": {
  "kernelspec": {
   "display_name": "Python 3",
   "language": "python",
   "name": "python3"
  },
  "language_info": {
   "codemirror_mode": {
    "name": "ipython",
    "version": 3
   },
   "file_extension": ".py",
   "mimetype": "text/x-python",
   "name": "python",
   "nbconvert_exporter": "python",
   "pygments_lexer": "ipython3",
   "version": "3.8.8"
  }
 },
 "nbformat": 4,
 "nbformat_minor": 5
}
