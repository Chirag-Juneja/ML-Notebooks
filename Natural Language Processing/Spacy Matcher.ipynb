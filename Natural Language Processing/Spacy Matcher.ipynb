{
 "cells": [
  {
   "cell_type": "markdown",
   "id": "6175767a",
   "metadata": {},
   "source": [
    "# Spacy Matcher"
   ]
  },
  {
   "cell_type": "code",
   "execution_count": 1,
   "id": "a22ad9a6",
   "metadata": {},
   "outputs": [],
   "source": [
    "import spacy\n",
    "from spacy.matcher import Matcher"
   ]
  },
  {
   "cell_type": "code",
   "execution_count": 2,
   "id": "6e92a059",
   "metadata": {},
   "outputs": [],
   "source": [
    "nlp = spacy.load(\"en_core_web_sm\")"
   ]
  },
  {
   "cell_type": "code",
   "execution_count": 3,
   "id": "d2ece745",
   "metadata": {},
   "outputs": [],
   "source": [
    "matcher = Matcher(nlp.vocab)"
   ]
  },
  {
   "cell_type": "code",
   "execution_count": 4,
   "id": "6c18b533",
   "metadata": {},
   "outputs": [],
   "source": [
    "pattern = [{\"LIKE_EMAIL\":True}]"
   ]
  },
  {
   "cell_type": "code",
   "execution_count": 5,
   "id": "c1c57558",
   "metadata": {},
   "outputs": [],
   "source": [
    "matcher.add(\"EMAIL_ADDRESS\",[pattern])"
   ]
  },
  {
   "cell_type": "code",
   "execution_count": 6,
   "id": "4bc143bc",
   "metadata": {},
   "outputs": [],
   "source": [
    "doc = nlp(\"This is my email address: chirag.juneja@gmail.com\")"
   ]
  },
  {
   "cell_type": "code",
   "execution_count": 7,
   "id": "16f29ef5",
   "metadata": {},
   "outputs": [],
   "source": [
    "matches = matcher(doc)"
   ]
  },
  {
   "cell_type": "code",
   "execution_count": 8,
   "id": "4b0c1d65",
   "metadata": {},
   "outputs": [
    {
     "name": "stdout",
     "output_type": "stream",
     "text": [
      "[(16571425990740197027, 6, 7)]\n"
     ]
    }
   ],
   "source": [
    "print(matches)"
   ]
  },
  {
   "cell_type": "code",
   "execution_count": 9,
   "id": "b4ef2407",
   "metadata": {},
   "outputs": [
    {
     "name": "stdout",
     "output_type": "stream",
     "text": [
      "EMAIL_ADDRESS\n"
     ]
    }
   ],
   "source": [
    "print(nlp.vocab[matches[0][0]].text)"
   ]
  },
  {
   "cell_type": "code",
   "execution_count": 10,
   "id": "6391f20f",
   "metadata": {},
   "outputs": [
    {
     "data": {
      "text/plain": [
       "chirag.juneja@gmail.com"
      ]
     },
     "execution_count": 10,
     "metadata": {},
     "output_type": "execute_result"
    }
   ],
   "source": [
    "doc[matches[0][1]:matches[0][2]]"
   ]
  },
  {
   "cell_type": "markdown",
   "id": "417ea650",
   "metadata": {},
   "source": [
    "## Grabbing all proper nouns"
   ]
  },
  {
   "cell_type": "code",
   "execution_count": 11,
   "id": "28b371d2",
   "metadata": {},
   "outputs": [],
   "source": [
    "with open(\"data/wiki_mlk.txt\",'r') as f:\n",
    "    text = f.read()"
   ]
  },
  {
   "cell_type": "code",
   "execution_count": 12,
   "id": "63960b0a",
   "metadata": {},
   "outputs": [],
   "source": [
    "doc = nlp(text)"
   ]
  },
  {
   "cell_type": "code",
   "execution_count": 13,
   "id": "5136d100",
   "metadata": {},
   "outputs": [
    {
     "name": "stderr",
     "output_type": "stream",
     "text": [
      "C:\\ProgramData\\Anaconda3\\lib\\site-packages\\spacy\\util.py:1636: UserWarning: [W111] Jupyter notebook detected: if using `prefer_gpu()` or `require_gpu()`, include it in the same cell right before `spacy.load()` to ensure that the model is loaded on the correct device. More information: http://spacy.io/usage/v3#jupyter-notebook-gpu\n",
      "  warnings.warn(Warnings.W111)\n"
     ]
    }
   ],
   "source": [
    "nlp = spacy.load(\"en_core_web_sm\")"
   ]
  },
  {
   "cell_type": "code",
   "execution_count": 14,
   "id": "431b4321",
   "metadata": {},
   "outputs": [
    {
     "name": "stdout",
     "output_type": "stream",
     "text": [
      "(451313080118390996, 0, 1) Martin\n",
      "(451313080118390996, 1, 2) Luther\n",
      "(451313080118390996, 2, 3) King\n",
      "(451313080118390996, 3, 4) Jr.\n",
      "(451313080118390996, 6, 7) Michael\n",
      "(451313080118390996, 7, 8) King\n",
      "(451313080118390996, 8, 9) Jr.\n",
      "(451313080118390996, 10, 11) January\n",
      "(451313080118390996, 16, 17) April\n",
      "(451313080118390996, 23, 24) American\n"
     ]
    }
   ],
   "source": [
    "matcher = Matcher(nlp.vocab)\n",
    "pattern = [{'POS':'PROPN'}]\n",
    "matcher.add(\"PROPER_NOUN\",[pattern])\n",
    "matches = matcher(doc)\n",
    "for match in matches[:10]:\n",
    "    print(match,doc[match[1]:match[2]])"
   ]
  },
  {
   "cell_type": "markdown",
   "id": "54a1f0d6",
   "metadata": {},
   "source": [
    "### Multi-Word Tokens"
   ]
  },
  {
   "cell_type": "code",
   "execution_count": 15,
   "id": "c13f3448",
   "metadata": {},
   "outputs": [
    {
     "name": "stdout",
     "output_type": "stream",
     "text": [
      "(451313080118390996, 0, 1) Martin\n",
      "(451313080118390996, 0, 2) Martin Luther\n",
      "(451313080118390996, 1, 2) Luther\n",
      "(451313080118390996, 0, 3) Martin Luther King\n",
      "(451313080118390996, 1, 3) Luther King\n",
      "(451313080118390996, 2, 3) King\n",
      "(451313080118390996, 0, 4) Martin Luther King Jr.\n",
      "(451313080118390996, 1, 4) Luther King Jr.\n",
      "(451313080118390996, 2, 4) King Jr.\n",
      "(451313080118390996, 3, 4) Jr.\n"
     ]
    }
   ],
   "source": [
    "matcher = Matcher(nlp.vocab)\n",
    "pattern = [{'POS':'PROPN','OP':'+'}]\n",
    "matcher.add(\"PROPER_NOUN\",[pattern])\n",
    "matches = matcher(doc)\n",
    "for match in matches[:10]:\n",
    "    print(match,doc[match[1]:match[2]])"
   ]
  },
  {
   "cell_type": "markdown",
   "id": "19b05421",
   "metadata": {},
   "source": [
    "### Greedy Matcher"
   ]
  },
  {
   "cell_type": "code",
   "execution_count": 16,
   "id": "ee712fa8",
   "metadata": {},
   "outputs": [
    {
     "name": "stdout",
     "output_type": "stream",
     "text": [
      "(451313080118390996, 0, 4) Martin Luther King Jr.\n",
      "(451313080118390996, 6, 9) Michael King Jr.\n",
      "(451313080118390996, 10, 11) January\n",
      "(451313080118390996, 16, 17) April\n",
      "(451313080118390996, 23, 25) American Baptist\n",
      "(451313080118390996, 50, 51) King\n",
      "(451313080118390996, 70, 72) Mahatma Gandhi\n",
      "(451313080118390996, 84, 88) Martin Luther King Sr\n",
      "(451313080118390996, 90, 91) King\n",
      "(451313080118390996, 114, 115) King\n"
     ]
    }
   ],
   "source": [
    "matcher = Matcher(nlp.vocab)\n",
    "pattern = [{'POS':'PROPN','OP':'+'}]\n",
    "matcher.add(\"PROPER_NOUN\",[pattern],greedy=\"LONGEST\")\n",
    "matches = matcher(doc)\n",
    "matches.sort(key=lambda x:x[1])\n",
    "for match in matches[:10]:\n",
    "    print(match,doc[match[1]:match[2]])"
   ]
  },
  {
   "cell_type": "markdown",
   "id": "bc8725b9",
   "metadata": {},
   "source": [
    "### Adding in Sequences"
   ]
  },
  {
   "cell_type": "code",
   "execution_count": 17,
   "id": "341e1257",
   "metadata": {},
   "outputs": [
    {
     "name": "stdout",
     "output_type": "stream",
     "text": [
      "(451313080118390996, 50, 52) King advanced\n",
      "(451313080118390996, 90, 92) King participated\n",
      "(451313080118390996, 114, 116) King led\n",
      "(451313080118390996, 248, 253) Director J. Edgar Hoover considered\n",
      "(451313080118390996, 323, 325) King won\n",
      "(451313080118390996, 486, 489) United States beginning\n"
     ]
    }
   ],
   "source": [
    "matcher = Matcher(nlp.vocab)\n",
    "pattern = [{'POS':'PROPN','OP':'+'},{'POS':'VERB'}]\n",
    "matcher.add(\"PROPER_NOUN\",[pattern],greedy=\"LONGEST\")\n",
    "matches = matcher(doc)\n",
    "matches.sort(key=lambda x:x[1])\n",
    "for match in matches[:10]:\n",
    "    print(match,doc[match[1]:match[2]])"
   ]
  },
  {
   "cell_type": "code",
   "execution_count": 18,
   "id": "fccd701c",
   "metadata": {},
   "outputs": [],
   "source": [
    "import json"
   ]
  },
  {
   "cell_type": "code",
   "execution_count": 19,
   "id": "48a6cfc6",
   "metadata": {},
   "outputs": [],
   "source": [
    "with open(\"data/alice.json\",'r') as f:\n",
    "    data = json.load(f)"
   ]
  },
  {
   "cell_type": "code",
   "execution_count": 20,
   "id": "7c8bea49",
   "metadata": {},
   "outputs": [],
   "source": [
    "text = data[0][2][0]"
   ]
  },
  {
   "cell_type": "code",
   "execution_count": 21,
   "id": "4a0e9443",
   "metadata": {},
   "outputs": [
    {
     "data": {
      "text/plain": [
       "\"Alice was beginning to get very tired of sitting by her sister on the bank, and of having nothing to do: once or twice she had peeped into the book her sister was reading, but it had no pictures or conversations in it, `and what is the use of a book,' thought Alice `without pictures or conversation?'\""
      ]
     },
     "execution_count": 21,
     "metadata": {},
     "output_type": "execute_result"
    }
   ],
   "source": [
    "text"
   ]
  },
  {
   "cell_type": "code",
   "execution_count": 22,
   "id": "fb661a1f",
   "metadata": {},
   "outputs": [],
   "source": [
    "text = text.replace('`',\"'\")"
   ]
  },
  {
   "cell_type": "code",
   "execution_count": 23,
   "id": "b417da22",
   "metadata": {},
   "outputs": [],
   "source": [
    "doc = nlp(text)"
   ]
  },
  {
   "cell_type": "code",
   "execution_count": 24,
   "id": "45815f05",
   "metadata": {},
   "outputs": [
    {
     "name": "stdout",
     "output_type": "stream",
     "text": [
      "(16432004385153140588, 47, 60) 'and what is the use of a book,' thought Alice\n"
     ]
    }
   ],
   "source": [
    "speak_lemmas = [\"think\",\"say\"]\n",
    "matcher = Matcher(nlp.vocab)\n",
    "pattern = [{\"ORTH\":\"'\", \"OP\":\"+\"},\n",
    "           {\"IS_ALPHA\":True, \"OP\":\"+\"},\n",
    "           {\"IS_PUNCT\":True, \"OP\":\"+\"},\n",
    "           {\"ORTH\":\"'\", \"OP\":\"+\"},\n",
    "           {\"POS\":\"VERB\",\"LEMMA\":{\"IN\":speak_lemmas}},\n",
    "           {\"POS\":\"PROPN\"}\n",
    "          ]\n",
    "matcher.add(\"QUOTES\",[pattern],greedy=\"LONGEST\")\n",
    "matches = matcher(doc)\n",
    "matches.sort(key=lambda x:x[1])\n",
    "for match in matches[:10]:\n",
    "    print(match,doc[match[1]:match[2]])"
   ]
  }
 ],
 "metadata": {
  "kernelspec": {
   "display_name": "Python 3",
   "language": "python",
   "name": "python3"
  },
  "language_info": {
   "codemirror_mode": {
    "name": "ipython",
    "version": 3
   },
   "file_extension": ".py",
   "mimetype": "text/x-python",
   "name": "python",
   "nbconvert_exporter": "python",
   "pygments_lexer": "ipython3",
   "version": "3.8.8"
  }
 },
 "nbformat": 4,
 "nbformat_minor": 5
}
