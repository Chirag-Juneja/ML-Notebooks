{
 "cells": [
  {
   "cell_type": "markdown",
   "id": "62d4f564",
   "metadata": {},
   "source": [
    "# Variable Characteristics"
   ]
  },
  {
   "cell_type": "markdown",
   "id": "7188fc43",
   "metadata": {},
   "source": [
    "* Missing Data\n",
    "* Cardinality"
   ]
  },
  {
   "cell_type": "code",
   "execution_count": null,
   "id": "7ed038bc",
   "metadata": {},
   "outputs": [],
   "source": [
    "import pandas as pd\n",
    "import numpy as np\n",
    "\n",
    "import matplotlib.pyplot as plt\n",
    "\n",
    "df_titanic = pd.read_csv('data/titanic.csv')\n",
    "df_loan = pd.read_csv('data/loan.csv')"
   ]
  },
  {
   "cell_type": "markdown",
   "id": "cd293069",
   "metadata": {},
   "source": [
    "## Missing Data\n",
    "\n",
    "Missing data, or missing values, occur when no data is stored for a certain observation in a variable. This is a common occurrence in most datasets and can have a significant effect on the conclusions that can be drawn from the data.\n",
    "\n",
    "### Impacts\n",
    "* Scikit-lean is incompatible with missing data.\n",
    "* Missing data imputation may distort variable distribution\n",
    "* Affects all machine learning models"
   ]
  },
  {
   "cell_type": "code",
   "execution_count": 2,
   "id": "d8aeda64",
   "metadata": {},
   "outputs": [
    {
     "data": {
      "text/plain": [
       "pclass        0.000000\n",
       "survived      0.000000\n",
       "name          0.000000\n",
       "sex           0.000000\n",
       "age          20.091673\n",
       "sibsp         0.000000\n",
       "parch         0.000000\n",
       "ticket        0.000000\n",
       "fare          0.076394\n",
       "cabin        77.463713\n",
       "embarked      0.152788\n",
       "boat         62.872422\n",
       "body         90.756303\n",
       "home.dest    43.086325\n",
       "dtype: float64"
      ]
     },
     "execution_count": 2,
     "metadata": {},
     "output_type": "execute_result"
    }
   ],
   "source": [
    "df_titanic.isnull().mean()*100"
   ]
  },
  {
   "cell_type": "code",
   "execution_count": 3,
   "id": "6da3370a",
   "metadata": {},
   "outputs": [
    {
     "data": {
      "text/plain": [
       "customer_id                0.00\n",
       "disbursed_amount           0.00\n",
       "interest                   0.00\n",
       "market                     0.00\n",
       "employment                 6.11\n",
       "time_employed              5.29\n",
       "householder                0.00\n",
       "income                     0.00\n",
       "date_issued                0.00\n",
       "target                     0.00\n",
       "loan_purpose               0.00\n",
       "number_open_accounts       0.00\n",
       "date_last_payment          0.00\n",
       "number_credit_lines_12    97.62\n",
       "dtype: float64"
      ]
     },
     "execution_count": 3,
     "metadata": {},
     "output_type": "execute_result"
    }
   ],
   "source": [
    "df_loan.isnull().mean()*100"
   ]
  },
  {
   "cell_type": "markdown",
   "id": "2eba9ba0",
   "metadata": {},
   "source": [
    "The above cell shows percentage of missing data in variables"
   ]
  },
  {
   "cell_type": "markdown",
   "id": "97eccd23",
   "metadata": {},
   "source": [
    "### Mechanisms\n",
    "Understanding missing data mechanisms helps to choose the right missing data imputation."
   ]
  },
  {
   "cell_type": "markdown",
   "id": "99a0eebf",
   "metadata": {},
   "source": [
    "1. __Missing Data Completely At Random (MCAR)__\n",
    "\n",
    "    * The probability of being missing is the same for all the observations.\n",
    "    * There is no relationship between the data missing and any other values, observed or missing, within the dataset.\n",
    "    * Disregarding those cases would not bias the inferences made"
   ]
  },
  {
   "cell_type": "code",
   "execution_count": 4,
   "id": "2e9847e5",
   "metadata": {},
   "outputs": [
    {
     "data": {
      "text/html": [
       "<div>\n",
       "<style scoped>\n",
       "    .dataframe tbody tr th:only-of-type {\n",
       "        vertical-align: middle;\n",
       "    }\n",
       "\n",
       "    .dataframe tbody tr th {\n",
       "        vertical-align: top;\n",
       "    }\n",
       "\n",
       "    .dataframe thead th {\n",
       "        text-align: right;\n",
       "    }\n",
       "</style>\n",
       "<table border=\"1\" class=\"dataframe\">\n",
       "  <thead>\n",
       "    <tr style=\"text-align: right;\">\n",
       "      <th></th>\n",
       "      <th>pclass</th>\n",
       "      <th>survived</th>\n",
       "      <th>name</th>\n",
       "      <th>sex</th>\n",
       "      <th>age</th>\n",
       "      <th>sibsp</th>\n",
       "      <th>parch</th>\n",
       "      <th>ticket</th>\n",
       "      <th>fare</th>\n",
       "      <th>cabin</th>\n",
       "      <th>embarked</th>\n",
       "      <th>boat</th>\n",
       "      <th>body</th>\n",
       "      <th>home.dest</th>\n",
       "    </tr>\n",
       "  </thead>\n",
       "  <tbody>\n",
       "    <tr>\n",
       "      <th>168</th>\n",
       "      <td>1</td>\n",
       "      <td>1</td>\n",
       "      <td>Icard, Miss. Amelie</td>\n",
       "      <td>female</td>\n",
       "      <td>38.0</td>\n",
       "      <td>0</td>\n",
       "      <td>0</td>\n",
       "      <td>113572</td>\n",
       "      <td>80.0</td>\n",
       "      <td>B28</td>\n",
       "      <td>NaN</td>\n",
       "      <td>6</td>\n",
       "      <td>NaN</td>\n",
       "      <td>NaN</td>\n",
       "    </tr>\n",
       "    <tr>\n",
       "      <th>284</th>\n",
       "      <td>1</td>\n",
       "      <td>1</td>\n",
       "      <td>Stone, Mrs. George Nelson (Martha Evelyn)</td>\n",
       "      <td>female</td>\n",
       "      <td>62.0</td>\n",
       "      <td>0</td>\n",
       "      <td>0</td>\n",
       "      <td>113572</td>\n",
       "      <td>80.0</td>\n",
       "      <td>B28</td>\n",
       "      <td>NaN</td>\n",
       "      <td>6</td>\n",
       "      <td>NaN</td>\n",
       "      <td>Cincinatti, OH</td>\n",
       "    </tr>\n",
       "  </tbody>\n",
       "</table>\n",
       "</div>"
      ],
      "text/plain": [
       "     pclass  survived                                       name     sex  \\\n",
       "168       1         1                        Icard, Miss. Amelie  female   \n",
       "284       1         1  Stone, Mrs. George Nelson (Martha Evelyn)  female   \n",
       "\n",
       "      age  sibsp  parch  ticket  fare cabin embarked boat  body  \\\n",
       "168  38.0      0      0  113572  80.0   B28      NaN    6   NaN   \n",
       "284  62.0      0      0  113572  80.0   B28      NaN    6   NaN   \n",
       "\n",
       "          home.dest  \n",
       "168             NaN  \n",
       "284  Cincinatti, OH  "
      ]
     },
     "execution_count": 4,
     "metadata": {},
     "output_type": "execute_result"
    }
   ],
   "source": [
    "df_titanic[df_titanic['embarked'].isnull()]"
   ]
  },
  {
   "cell_type": "markdown",
   "id": "554fc0f7",
   "metadata": {},
   "source": [
    "A priori, there does not seem to be an indication that the missing information in the variable Embarked is depending on any other variable, and the fact that these women survived, means that they could have been asked for this information."
   ]
  },
  {
   "cell_type": "markdown",
   "id": "7d07108d",
   "metadata": {},
   "source": [
    "2. __Missing Data at Random (MAR)__\n",
    "\n",
    "    * The probability of an observation being missing depends on available information.\n"
   ]
  },
  {
   "cell_type": "code",
   "execution_count": 5,
   "id": "409f879c",
   "metadata": {},
   "outputs": [
    {
     "data": {
      "text/plain": [
       "array(['Teacher', 'Accountant', 'Statistician', 'Other', 'Bus driver',\n",
       "       'Secretary', 'Software developer', 'Nurse', 'Taxi driver', nan,\n",
       "       'Civil Servant', 'Dentist'], dtype=object)"
      ]
     },
     "execution_count": 5,
     "metadata": {},
     "output_type": "execute_result"
    }
   ],
   "source": [
    "df_loan['employment'].unique()"
   ]
  },
  {
   "cell_type": "code",
   "execution_count": 6,
   "id": "98b85ba9",
   "metadata": {},
   "outputs": [
    {
     "data": {
      "text/plain": [
       "array(['<=5 years', '>5 years', nan], dtype=object)"
      ]
     },
     "execution_count": 6,
     "metadata": {},
     "output_type": "execute_result"
    }
   ],
   "source": [
    "df_loan['time_employed'].unique()"
   ]
  },
  {
   "cell_type": "code",
   "execution_count": 7,
   "id": "25d7251d",
   "metadata": {},
   "outputs": [
    {
     "data": {
      "text/plain": [
       "employment\n",
       "False    0.857610\n",
       "True     0.000533\n",
       "Name: time_employed, dtype: float64"
      ]
     },
     "execution_count": 7,
     "metadata": {},
     "output_type": "execute_result"
    }
   ],
   "source": [
    "df_loan['time_employed'].isnull().groupby(~df_loan['employment'].isnull()).mean()"
   ]
  },
  {
   "cell_type": "markdown",
   "id": "256b8629",
   "metadata": {},
   "source": [
    "The number of borrowers who have reported occupation and have missing values in time_employed is minimal. Whereas the customers who did not report an occupation or employment, are mostly reporting missing values in the time_employed variable."
   ]
  },
  {
   "cell_type": "markdown",
   "id": "652888e0",
   "metadata": {},
   "source": [
    "3. __Missing Data Not at Random (MNAR)__\n",
    "\n",
    "    * There is a mechanism or a reason why missing values are introduces in the dataset."
   ]
  },
  {
   "cell_type": "markdown",
   "id": "a2aa57f8",
   "metadata": {},
   "source": [
    "In the Titanic dataset, both the missing values of the variables __age__ and __cabin__, were introduced systematically. For many of the people who did not survive, the age they had or the cabin they were traveling in, could not be established. The people who survived could be otherwise asked for that information."
   ]
  },
  {
   "cell_type": "code",
   "execution_count": 8,
   "id": "317d6bd6",
   "metadata": {},
   "outputs": [],
   "source": [
    "df_titanic['cabin_null'] = np.where(df_titanic['cabin'].isnull(),1,0)"
   ]
  },
  {
   "cell_type": "code",
   "execution_count": 9,
   "id": "c674f3c4",
   "metadata": {},
   "outputs": [
    {
     "data": {
      "text/plain": [
       "survived\n",
       "0    0.873918\n",
       "1    0.614000\n",
       "Name: cabin_null, dtype: float64"
      ]
     },
     "execution_count": 9,
     "metadata": {},
     "output_type": "execute_result"
    }
   ],
   "source": [
    "df_titanic.groupby(['survived'])['cabin_null'].mean()"
   ]
  },
  {
   "cell_type": "code",
   "execution_count": 10,
   "id": "ade4b12e",
   "metadata": {},
   "outputs": [
    {
     "data": {
      "text/plain": [
       "survived\n",
       "0    0.234858\n",
       "1    0.146000\n",
       "Name: age, dtype: float64"
      ]
     },
     "execution_count": 10,
     "metadata": {},
     "output_type": "execute_result"
    }
   ],
   "source": [
    "df_titanic['age'].isnull().groupby(df_titanic['survived']).mean()"
   ]
  },
  {
   "cell_type": "markdown",
   "id": "48d0f9de",
   "metadata": {},
   "source": [
    "## Cardinality\n",
    "The values of a categorical variable are selected from a group of categories(also called labels). The number of different labels is known as cardinality.\n",
    "\n",
    "### Impacts\n",
    "* Scikit-lean is incompatible with strings\n",
    "* Highly cardinal varibales have uneven distribution between train and test sets\n",
    "* Over-fitting in tree based algorithms\n",
    "* Operational problems when using models live\n",
    "\n",
    "#### Uneven distribution between train and test sets\n",
    "\n",
    "For highly cardinal variables\n",
    "* Some labels may appear only in train set -> over-fitting\n",
    "* Some labels may appear only in test set -> model will not know how to interpret the values "
   ]
  },
  {
   "cell_type": "markdown",
   "id": "e31f27af",
   "metadata": {},
   "source": [
    "Low cardinality variables"
   ]
  },
  {
   "cell_type": "code",
   "execution_count": 11,
   "id": "fe6f5118",
   "metadata": {},
   "outputs": [
    {
     "name": "stdout",
     "output_type": "stream",
     "text": [
      "Number of categories in the variable Sex : 2\n",
      "Number of categories in the variable Embarked : 4\n"
     ]
    }
   ],
   "source": [
    "print('Number of categories in the variable Sex :',len(df_titanic['sex'].unique()))\n",
    "print('Number of categories in the variable Embarked :',len(df_titanic['embarked'].unique()))"
   ]
  },
  {
   "cell_type": "markdown",
   "id": "f4a51cf1",
   "metadata": {},
   "source": [
    "High cardinality variables"
   ]
  },
  {
   "cell_type": "code",
   "execution_count": 12,
   "id": "6d4940a3",
   "metadata": {},
   "outputs": [
    {
     "name": "stdout",
     "output_type": "stream",
     "text": [
      "Number of categories in the variable Cabin : 182\n",
      "Number of categories in the variable Ticket : 929\n"
     ]
    }
   ],
   "source": [
    "print('Number of categories in the variable Cabin :',len(df_titanic['cabin'].unique()))\n",
    "print('Number of categories in the variable Ticket :',len(df_titanic['ticket'].unique()))"
   ]
  },
  {
   "cell_type": "markdown",
   "id": "b78efa43",
   "metadata": {},
   "source": [
    "### Cadinality Reduction\n",
    "\n",
    "Instead of using the entire cabin value, we will capture only first letter.\n",
    "\n",
    "__Rationale:__ the first letter indicates the dect on which the cabin was located, and therefore an indication of both social class status and proximity to the surface. Both are known to improve the probability of survival."
   ]
  },
  {
   "cell_type": "code",
   "execution_count": 13,
   "id": "c8f70759",
   "metadata": {},
   "outputs": [
    {
     "data": {
      "text/plain": [
       "array(['B5', 'C22', 'E12', 'D7', 'A36', 'C101', nan, 'C62', 'B35', 'A23',\n",
       "       'B58', 'D15', 'C6', 'D35', 'C148', 'C97', 'B49', 'C99', 'C52', 'T',\n",
       "       'A31', 'C7', 'C103', 'D22', 'E33', 'A21', 'B10', 'B4', 'E40',\n",
       "       'B38', 'E24', 'B51', 'B96', 'C46', 'E31', 'E8', 'B61', 'B77', 'A9',\n",
       "       'C89', 'A14', 'E58', 'E49', 'E52', 'E45', 'B22', 'B26', 'C85',\n",
       "       'E17', 'B71', 'B20', 'A34', 'C86', 'A16', 'A20', 'A18', 'C54',\n",
       "       'C45', 'D20', 'A29', 'C95', 'E25', 'C111', 'C23', 'E36', 'D34',\n",
       "       'D40', 'B39', 'B41', 'B102', 'C123', 'E63', 'C130', 'B86', 'C92',\n",
       "       'A5', 'C51', 'B42', 'C91', 'C125', 'D10', 'B82', 'E50', 'D33',\n",
       "       'C83', 'B94', 'D49', 'D45', 'B69', 'B11', 'E46', 'C39', 'B18',\n",
       "       'D11', 'C93', 'B28', 'C49', 'B52', 'E60', 'C132', 'B37', 'D21',\n",
       "       'D19', 'C124', 'D17', 'B101', 'D28', 'D6', 'D9', 'B80', 'C106',\n",
       "       'B79', 'C47', 'D30', 'C90', 'E38', 'C78', 'C30', 'C118', 'D36',\n",
       "       'D48', 'D47', 'C105', 'B36', 'B30', 'D43', 'B24', 'C2', 'C65',\n",
       "       'B73', 'C104', 'C110', 'C50', 'B3', 'A24', 'A32', 'A11', 'A10',\n",
       "       'B57', 'C28', 'E44', 'A26', 'A6', 'A7', 'C31', 'A19', 'B45', 'E34',\n",
       "       'B78', 'B50', 'C87', 'C116', 'C55', 'D50', 'E68', 'E67', 'C126',\n",
       "       'C68', 'C70', 'C53', 'B19', 'D46', 'D37', 'D26', 'C32', 'C80',\n",
       "       'C82', 'C128', 'E39', 'D', 'F4', 'D56', 'F33', 'E101', 'E77', 'F2',\n",
       "       'D38', 'F', 'E121', 'E10', 'G6', 'F38'], dtype=object)"
      ]
     },
     "execution_count": 13,
     "metadata": {},
     "output_type": "execute_result"
    }
   ],
   "source": [
    "df_titanic['cabin'].unique()"
   ]
  },
  {
   "cell_type": "code",
   "execution_count": 14,
   "id": "0afbe643",
   "metadata": {},
   "outputs": [],
   "source": [
    "df_titanic['cabin_reduced'] = df_titanic['cabin'].astype(str).str[0]"
   ]
  },
  {
   "cell_type": "code",
   "execution_count": 15,
   "id": "acf74fca",
   "metadata": {},
   "outputs": [
    {
     "name": "stdout",
     "output_type": "stream",
     "text": [
      "Number of categories in the variable Cabin Reduced : 9\n"
     ]
    }
   ],
   "source": [
    "print('Number of categories in the variable Cabin Reduced :',len(df_titanic['cabin_reduced'].unique()))"
   ]
  },
  {
   "cell_type": "code",
   "execution_count": 16,
   "id": "e491954b",
   "metadata": {},
   "outputs": [
    {
     "data": {
      "text/html": [
       "<div>\n",
       "<style scoped>\n",
       "    .dataframe tbody tr th:only-of-type {\n",
       "        vertical-align: middle;\n",
       "    }\n",
       "\n",
       "    .dataframe tbody tr th {\n",
       "        vertical-align: top;\n",
       "    }\n",
       "\n",
       "    .dataframe thead th {\n",
       "        text-align: right;\n",
       "    }\n",
       "</style>\n",
       "<table border=\"1\" class=\"dataframe\">\n",
       "  <thead>\n",
       "    <tr style=\"text-align: right;\">\n",
       "      <th></th>\n",
       "      <th>cabin</th>\n",
       "      <th>cabin_reduced</th>\n",
       "    </tr>\n",
       "  </thead>\n",
       "  <tbody>\n",
       "    <tr>\n",
       "      <th>0</th>\n",
       "      <td>B5</td>\n",
       "      <td>B</td>\n",
       "    </tr>\n",
       "    <tr>\n",
       "      <th>1</th>\n",
       "      <td>C22</td>\n",
       "      <td>C</td>\n",
       "    </tr>\n",
       "    <tr>\n",
       "      <th>2</th>\n",
       "      <td>C22</td>\n",
       "      <td>C</td>\n",
       "    </tr>\n",
       "    <tr>\n",
       "      <th>3</th>\n",
       "      <td>C22</td>\n",
       "      <td>C</td>\n",
       "    </tr>\n",
       "    <tr>\n",
       "      <th>4</th>\n",
       "      <td>C22</td>\n",
       "      <td>C</td>\n",
       "    </tr>\n",
       "  </tbody>\n",
       "</table>\n",
       "</div>"
      ],
      "text/plain": [
       "  cabin cabin_reduced\n",
       "0    B5             B\n",
       "1   C22             C\n",
       "2   C22             C\n",
       "3   C22             C\n",
       "4   C22             C"
      ]
     },
     "execution_count": 16,
     "metadata": {},
     "output_type": "execute_result"
    }
   ],
   "source": [
    "df_titanic[['cabin','cabin_reduced']].head()"
   ]
  },
  {
   "cell_type": "markdown",
   "id": "c7de8b1c",
   "metadata": {},
   "source": [
    "## Rare Labels\n",
    "\n",
    "Rare labels are those that appear only in a tiny proportion of the observations in a dataset. They have same impacts and considerations as with high cardinality.\n",
    "\n",
    "### Impacts\n",
    "* Scikit-lean is incompatible with strings\n",
    "* Uneven distribution between train and test sets\n",
    "* Over-fitting in tree based algorithms\n",
    "* Operational problems when using models live\n",
    "\n",
    "Hard to understand the true effect of the rare label on the outcome.\n",
    "Removing rare labels may improve model performance.\n"
   ]
  },
  {
   "cell_type": "code",
   "execution_count": 17,
   "id": "8bca664c",
   "metadata": {},
   "outputs": [],
   "source": [
    "use_cols = ['Neighborhood', 'Exterior1st', 'Exterior2nd', 'SalePrice']\n",
    "\n",
    "df_house = pd.read_csv('./data/houseprice.csv', usecols=use_cols)"
   ]
  },
  {
   "cell_type": "code",
   "execution_count": 18,
   "id": "16cb4e6e",
   "metadata": {},
   "outputs": [
    {
     "data": {
      "text/html": [
       "<div>\n",
       "<style scoped>\n",
       "    .dataframe tbody tr th:only-of-type {\n",
       "        vertical-align: middle;\n",
       "    }\n",
       "\n",
       "    .dataframe tbody tr th {\n",
       "        vertical-align: top;\n",
       "    }\n",
       "\n",
       "    .dataframe thead th {\n",
       "        text-align: right;\n",
       "    }\n",
       "</style>\n",
       "<table border=\"1\" class=\"dataframe\">\n",
       "  <thead>\n",
       "    <tr style=\"text-align: right;\">\n",
       "      <th></th>\n",
       "      <th>Neighborhood</th>\n",
       "      <th>Exterior1st</th>\n",
       "      <th>Exterior2nd</th>\n",
       "      <th>SalePrice</th>\n",
       "    </tr>\n",
       "  </thead>\n",
       "  <tbody>\n",
       "    <tr>\n",
       "      <th>0</th>\n",
       "      <td>CollgCr</td>\n",
       "      <td>VinylSd</td>\n",
       "      <td>VinylSd</td>\n",
       "      <td>208500</td>\n",
       "    </tr>\n",
       "    <tr>\n",
       "      <th>1</th>\n",
       "      <td>Veenker</td>\n",
       "      <td>MetalSd</td>\n",
       "      <td>MetalSd</td>\n",
       "      <td>181500</td>\n",
       "    </tr>\n",
       "    <tr>\n",
       "      <th>2</th>\n",
       "      <td>CollgCr</td>\n",
       "      <td>VinylSd</td>\n",
       "      <td>VinylSd</td>\n",
       "      <td>223500</td>\n",
       "    </tr>\n",
       "    <tr>\n",
       "      <th>3</th>\n",
       "      <td>Crawfor</td>\n",
       "      <td>Wd Sdng</td>\n",
       "      <td>Wd Shng</td>\n",
       "      <td>140000</td>\n",
       "    </tr>\n",
       "    <tr>\n",
       "      <th>4</th>\n",
       "      <td>NoRidge</td>\n",
       "      <td>VinylSd</td>\n",
       "      <td>VinylSd</td>\n",
       "      <td>250000</td>\n",
       "    </tr>\n",
       "  </tbody>\n",
       "</table>\n",
       "</div>"
      ],
      "text/plain": [
       "  Neighborhood Exterior1st Exterior2nd  SalePrice\n",
       "0      CollgCr     VinylSd     VinylSd     208500\n",
       "1      Veenker     MetalSd     MetalSd     181500\n",
       "2      CollgCr     VinylSd     VinylSd     223500\n",
       "3      Crawfor     Wd Sdng     Wd Shng     140000\n",
       "4      NoRidge     VinylSd     VinylSd     250000"
      ]
     },
     "execution_count": 18,
     "metadata": {},
     "output_type": "execute_result"
    }
   ],
   "source": [
    "df_house.head()"
   ]
  },
  {
   "cell_type": "code",
   "execution_count": 20,
   "id": "fc6bf6a8",
   "metadata": {},
   "outputs": [
    {
     "name": "stdout",
     "output_type": "stream",
     "text": [
      "variable: Neighborhood  number of labels:  25\n",
      "variable: Exterior1st  number of labels:  15\n",
      "variable: Exterior2nd  number of labels:  16\n"
     ]
    }
   ],
   "source": [
    "cat_cols = ['Neighborhood', 'Exterior1st', 'Exterior2nd']\n",
    "\n",
    "for col in cat_cols:\n",
    "    print('variable:',col,' number of labels: ',df_house[col].nunique())"
   ]
  },
  {
   "cell_type": "code",
   "execution_count": 23,
   "id": "415b672e",
   "metadata": {},
   "outputs": [
    {
     "data": {
      "image/png": "[encoded data removed]",
      "text/plain": [
       "<Figure size 432x288 with 1 Axes>"
      ]
     },
     "metadata": {
      "needs_background": "light"
     },
     "output_type": "display_data"
    },
    {
     "data": {
      "image/png": "[encoded data removed]",
      "text/plain": [
       "<Figure size 432x288 with 1 Axes>"
      ]
     },
     "metadata": {
      "needs_background": "light"
     },
     "output_type": "display_data"
    },
    {
     "data": {
      "image/png": "[encoded data removed]",
      "text/plain": [
       "<Figure size 432x288 with 1 Axes>"
      ]
     },
     "metadata": {
      "needs_background": "light"
     },
     "output_type": "display_data"
    }
   ],
   "source": [
    "total_house = len(df_house)\n",
    "for col in cat_cols:\n",
    "    df_col = pd.Series(df_house[col].value_counts()/total_house)\n",
    "    \n",
    "    fig = df_col.sort_values(ascending=False).plot.bar()\n",
    "    fig.set_xlabel(col)\n",
    "    \n",
    "    fig.axhline(y=0.05,color='red')\n",
    "    fig.set_ylabel('Percentage of houses')\n",
    "    plt.show()"
   ]
  }
 ],
 "metadata": {
  "kernelspec": {
   "display_name": "Python 3",
   "language": "python",
   "name": "python3"
  },
  "language_info": {
   "codemirror_mode": {
    "name": "ipython",
    "version": 3
   },
   "file_extension": ".py",
   "mimetype": "text/x-python",
   "name": "python",
   "nbconvert_exporter": "python",
   "pygments_lexer": "ipython3",
   "version": "3.8.8"
  }
 },
 "nbformat": 4,
 "nbformat_minor": 5
}
